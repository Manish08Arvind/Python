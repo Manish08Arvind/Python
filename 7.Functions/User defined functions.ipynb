{
 "cells": [
  {
   "cell_type": "markdown",
   "metadata": {},
   "source": [
    "Functions written by any user(Python) falls under the category of user defined functions"
   ]
  },
  {
   "cell_type": "markdown",
   "metadata": {},
   "source": [
    "def keyword is used to declare user defined functions"
   ]
  },
  {
   "cell_type": "markdown",
   "metadata": {},
   "source": [
    "It can also be further defined as an intended block of statements follows the function name and arguments which contains the body of the function"
   ]
  },
  {
   "cell_type": "code",
   "execution_count": 1,
   "metadata": {},
   "outputs": [],
   "source": [
    "# Example\n",
    "\n",
    "def eveodd(num):\n",
    "    if num % 2 == 0:\n",
    "        print(str(num),'is even')\n",
    "    else:\n",
    "        print(str(num),'is odd')"
   ]
  },
  {
   "cell_type": "code",
   "execution_count": 2,
   "metadata": {},
   "outputs": [
    {
     "name": "stdout",
     "output_type": "stream",
     "text": [
      "10 is even\n"
     ]
    }
   ],
   "source": [
    "eveodd(10)"
   ]
  },
  {
   "cell_type": "code",
   "execution_count": 3,
   "metadata": {},
   "outputs": [
    {
     "name": "stdout",
     "output_type": "stream",
     "text": [
      "13 is odd\n"
     ]
    }
   ],
   "source": [
    "eveodd(13)"
   ]
  },
  {
   "cell_type": "markdown",
   "metadata": {},
   "source": [
    "#### Args and Kwargs"
   ]
  },
  {
   "cell_type": "markdown",
   "metadata": {},
   "source": [
    "*args is used for Non-keyword arguments and is used to pass a variable number of arguments into the function."
   ]
  },
  {
   "cell_type": "markdown",
   "metadata": {},
   "source": [
    "**kwargs is for keyword arguments and is used to pass keyworded variable-length argument list.\n",
    "\n",
    "** is used here to pass through keyword arguments any number of times."
   ]
  },
  {
   "cell_type": "code",
   "execution_count": 4,
   "metadata": {},
   "outputs": [],
   "source": [
    "def test_func(*args,**kwargs):\n",
    "    print('Arguments')\n",
    "    print(args)\n",
    "    print()\n",
    "    print('Keyword Arguments')\n",
    "    print(kwargs)"
   ]
  },
  {
   "cell_type": "code",
   "execution_count": 5,
   "metadata": {},
   "outputs": [
    {
     "name": "stdout",
     "output_type": "stream",
     "text": [
      "Arguments\n",
      "('Hello', 'Hi')\n",
      "\n",
      "Keyword Arguments\n",
      "{'greet': 'Welcome', 'length': 7}\n"
     ]
    }
   ],
   "source": [
    "test_func('Hello','Hi',greet = 'Welcome', length = 7)"
   ]
  },
  {
   "cell_type": "code",
   "execution_count": 6,
   "metadata": {},
   "outputs": [
    {
     "name": "stdout",
     "output_type": "stream",
     "text": [
      "Arguments\n",
      "(['Hello', 'Hi'], {'greet': 'Welcome', 'length': 7})\n",
      "\n",
      "Keyword Arguments\n",
      "{}\n"
     ]
    }
   ],
   "source": [
    "a = ['Hello', 'Hi']\n",
    "b = {'greet': 'Welcome', 'length': 7}\n",
    "\n",
    "test_func(a,b) #Only passed as positional arguments"
   ]
  },
  {
   "cell_type": "code",
   "execution_count": 7,
   "metadata": {},
   "outputs": [
    {
     "name": "stdout",
     "output_type": "stream",
     "text": [
      "Arguments\n",
      "('Hello', 'Hi')\n",
      "\n",
      "Keyword Arguments\n",
      "{'greet': 'Welcome', 'length': 7}\n"
     ]
    }
   ],
   "source": [
    "test_func(*a,**b) #Positional and Keyword arguments are passed with the help of * and **"
   ]
  }
 ],
 "metadata": {
  "kernelspec": {
   "display_name": "Python 3",
   "language": "python",
   "name": "python3"
  },
  "language_info": {
   "codemirror_mode": {
    "name": "ipython",
    "version": 3
   },
   "file_extension": ".py",
   "mimetype": "text/x-python",
   "name": "python",
   "nbconvert_exporter": "python",
   "pygments_lexer": "ipython3",
   "version": "3.8.5"
  }
 },
 "nbformat": 4,
 "nbformat_minor": 4
}
