{
 "cells": [
  {
   "cell_type": "markdown",
   "id": "7e64d403",
   "metadata": {},
   "source": [
    "A function that calls itself is said to be __recursive__ and the technique of utilizing the recursive function is called __recursion__."
   ]
  },
  {
   "cell_type": "markdown",
   "id": "287d0912",
   "metadata": {},
   "source": [
    "__Advantages of Recursion__\n",
    "\n",
    "* A complicated function can be split down into smaller sub-problems utilizing recursion.\n",
    "* Sequence creation is simpler through recursion than any nested iteration.\n",
    "* Recursive function render the code look simple and effective."
   ]
  },
  {
   "cell_type": "markdown",
   "id": "a234af12",
   "metadata": {},
   "source": [
    "__Disadvantages of Recusion__\n",
    "\n",
    "* A lot of memory and time is taken through recursive calls which makes it expensive for use.\n",
    "* Recursive functions are challenging to debug.\n",
    "* The reason behind recursion is sometimes be tough to think though."
   ]
  },
  {
   "cell_type": "markdown",
   "id": "571f9bd2",
   "metadata": {},
   "source": [
    "#### for loop method"
   ]
  },
  {
   "cell_type": "code",
   "execution_count": 1,
   "id": "61e17c8f",
   "metadata": {},
   "outputs": [],
   "source": [
    "def fact(a):\n",
    "    j = 1\n",
    "    for i in range(1,a+1):\n",
    "        j = j*i\n",
    "        \n",
    "    print(j)"
   ]
  },
  {
   "cell_type": "code",
   "execution_count": 2,
   "id": "52d98daa",
   "metadata": {},
   "outputs": [
    {
     "name": "stdout",
     "output_type": "stream",
     "text": [
      "120\n"
     ]
    }
   ],
   "source": [
    "fact(5)"
   ]
  },
  {
   "cell_type": "markdown",
   "id": "a0cd5392",
   "metadata": {},
   "source": [
    "#### Factorial - Using Recursion"
   ]
  },
  {
   "cell_type": "code",
   "execution_count": 3,
   "id": "5a1aa555",
   "metadata": {},
   "outputs": [],
   "source": [
    "def fact_rec(n):\n",
    "    if n==0:\n",
    "        return 1\n",
    "    return n*fact_rec(n-1)"
   ]
  },
  {
   "cell_type": "code",
   "execution_count": 4,
   "id": "5cfce6d6",
   "metadata": {},
   "outputs": [
    {
     "data": {
      "text/plain": [
       "120"
      ]
     },
     "execution_count": 4,
     "metadata": {},
     "output_type": "execute_result"
    }
   ],
   "source": [
    "fact_rec(5)"
   ]
  },
  {
   "cell_type": "markdown",
   "id": "6e8868f5",
   "metadata": {},
   "source": [
    "#### fibonacci series"
   ]
  },
  {
   "cell_type": "markdown",
   "id": "875c25e2",
   "metadata": {},
   "source": [
    "0,1,1,2,3,,5,8,13......"
   ]
  },
  {
   "cell_type": "code",
   "execution_count": 5,
   "id": "d2d12664",
   "metadata": {},
   "outputs": [],
   "source": [
    "def fibo(n):\n",
    "    a = 0\n",
    "    b = 1\n",
    "    for i in range(n):\n",
    "        if i == 0:\n",
    "            print(a)\n",
    "            a = 0\n",
    "        elif i == 1:\n",
    "            print(b)\n",
    "            b = 1\n",
    "        else:\n",
    "            print(a+b)\n",
    "            b = a+b\n",
    "            a = b-a"
   ]
  },
  {
   "cell_type": "code",
   "execution_count": 6,
   "id": "94502c07",
   "metadata": {},
   "outputs": [
    {
     "name": "stdout",
     "output_type": "stream",
     "text": [
      "0\n",
      "1\n",
      "1\n",
      "2\n",
      "3\n",
      "5\n",
      "8\n",
      "13\n",
      "21\n",
      "34\n"
     ]
    }
   ],
   "source": [
    "fibo(10)"
   ]
  },
  {
   "cell_type": "code",
   "execution_count": 7,
   "id": "28ce55e5",
   "metadata": {},
   "outputs": [],
   "source": [
    "# Alternate method\n",
    "\n",
    "def fibo_1(n):\n",
    "    if n>=1:\n",
    "        a = 0\n",
    "        b = 1\n",
    "        \n",
    "        if n==1:\n",
    "            print(a)\n",
    "        if n>=2:\n",
    "            print(a)\n",
    "            print(b)\n",
    "            for i in range(2,n):\n",
    "                c = a+b\n",
    "                a = b\n",
    "                b = c\n",
    "                print(c)\n",
    "    else:\n",
    "        print('Number should be greater than 0')"
   ]
  },
  {
   "cell_type": "code",
   "execution_count": 8,
   "id": "04c2e071",
   "metadata": {},
   "outputs": [
    {
     "name": "stdout",
     "output_type": "stream",
     "text": [
      "0\n",
      "1\n",
      "1\n",
      "2\n",
      "3\n",
      "5\n",
      "8\n",
      "13\n",
      "21\n",
      "34\n"
     ]
    }
   ],
   "source": [
    "fibo_1(10)"
   ]
  },
  {
   "cell_type": "markdown",
   "id": "9ad85fad",
   "metadata": {},
   "source": [
    "#### fibonacci series - Using Recursion"
   ]
  },
  {
   "cell_type": "code",
   "execution_count": 9,
   "id": "05de3971",
   "metadata": {},
   "outputs": [],
   "source": [
    "def fib_rec(n):\n",
    "        if n<=1:\n",
    "            return n\n",
    "        else:\n",
    "            return fib_rec(n-2)+fib_rec(n-1)\n",
    "\n",
    "# this returns a single number in the series for the position we pass in to the parameter 'n'"
   ]
  },
  {
   "cell_type": "code",
   "execution_count": 10,
   "id": "c39f5d0a",
   "metadata": {},
   "outputs": [
    {
     "data": {
      "text/plain": [
       "0"
      ]
     },
     "execution_count": 10,
     "metadata": {},
     "output_type": "execute_result"
    }
   ],
   "source": [
    "fib_rec(0)"
   ]
  },
  {
   "cell_type": "code",
   "execution_count": 11,
   "id": "0440c41c",
   "metadata": {},
   "outputs": [
    {
     "data": {
      "text/plain": [
       "1"
      ]
     },
     "execution_count": 11,
     "metadata": {},
     "output_type": "execute_result"
    }
   ],
   "source": [
    "fib_rec(1)"
   ]
  },
  {
   "cell_type": "code",
   "execution_count": 12,
   "id": "ccaf1861",
   "metadata": {},
   "outputs": [
    {
     "data": {
      "text/plain": [
       "1"
      ]
     },
     "execution_count": 12,
     "metadata": {},
     "output_type": "execute_result"
    }
   ],
   "source": [
    "fib_rec(2)"
   ]
  },
  {
   "cell_type": "code",
   "execution_count": 13,
   "id": "675652d5",
   "metadata": {},
   "outputs": [
    {
     "data": {
      "text/plain": [
       "2"
      ]
     },
     "execution_count": 13,
     "metadata": {},
     "output_type": "execute_result"
    }
   ],
   "source": [
    "fib_rec(3)"
   ]
  },
  {
   "cell_type": "code",
   "execution_count": 14,
   "id": "2227ba51",
   "metadata": {},
   "outputs": [
    {
     "name": "stdout",
     "output_type": "stream",
     "text": [
      "0\n",
      "1\n",
      "1\n",
      "2\n",
      "3\n"
     ]
    }
   ],
   "source": [
    "for k in range(5):\n",
    "    print(fib_rec(k))"
   ]
  },
  {
   "cell_type": "markdown",
   "id": "3591bbe9",
   "metadata": {},
   "source": [
    "#### using while loop"
   ]
  },
  {
   "cell_type": "code",
   "execution_count": 15,
   "id": "3ff9befa",
   "metadata": {},
   "outputs": [],
   "source": [
    "def fibo_while(n):\n",
    "    n1 = 0\n",
    "    n2 = 1\n",
    "    n3 = n2\n",
    "    count = 0\n",
    "    \n",
    "    while count<=n:\n",
    "        if count == 0:\n",
    "            print(0)\n",
    "            count+=1\n",
    "        else:\n",
    "            print(n2)\n",
    "            count+=1\n",
    "            n1,n2 = n2,n3\n",
    "            n3 = n2+n1"
   ]
  },
  {
   "cell_type": "code",
   "execution_count": 16,
   "id": "c57046d0",
   "metadata": {},
   "outputs": [
    {
     "name": "stdout",
     "output_type": "stream",
     "text": [
      "0\n",
      "1\n",
      "1\n",
      "2\n",
      "3\n",
      "5\n"
     ]
    }
   ],
   "source": [
    "fibo_while(5)"
   ]
  }
 ],
 "metadata": {
  "kernelspec": {
   "display_name": "Python 3 (ipykernel)",
   "language": "python",
   "name": "python3"
  },
  "language_info": {
   "codemirror_mode": {
    "name": "ipython",
    "version": 3
   },
   "file_extension": ".py",
   "mimetype": "text/x-python",
   "name": "python",
   "nbconvert_exporter": "python",
   "pygments_lexer": "ipython3",
   "version": "3.11.4"
  }
 },
 "nbformat": 4,
 "nbformat_minor": 5
}
