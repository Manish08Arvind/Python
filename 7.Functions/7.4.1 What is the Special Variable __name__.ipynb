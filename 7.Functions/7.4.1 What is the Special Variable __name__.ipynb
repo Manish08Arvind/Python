{
 "cells": [
  {
   "cell_type": "markdown",
   "metadata": {},
   "source": [
    "_ _ name _ _ is a built-in variable which evaluates to the name of the current module."
   ]
  },
  {
   "cell_type": "markdown",
   "metadata": {},
   "source": [
    "If source file is excuted as main program, the interpreter will set the _ _ name _ _ variable to have \"_ _ main _ _\""
   ]
  },
  {
   "cell_type": "markdown",
   "metadata": {},
   "source": [
    "If this file is imported from another module, _ _ name _ _ will be set to the module's name."
   ]
  },
  {
   "cell_type": "markdown",
   "metadata": {},
   "source": [
    "Overall, this can be used to have a check on the current script being run on its ownn or imported from a different file. "
   ]
  }
 ],
 "metadata": {
  "kernelspec": {
   "display_name": "Python 3",
   "language": "python",
   "name": "python3"
  },
  "language_info": {
   "codemirror_mode": {
    "name": "ipython",
    "version": 3
   },
   "file_extension": ".py",
   "mimetype": "text/x-python",
   "name": "python",
   "nbconvert_exporter": "python",
   "pygments_lexer": "ipython3",
   "version": "3.8.5"
  }
 },
 "nbformat": 4,
 "nbformat_minor": 4
}
