{
 "cells": [
  {
   "cell_type": "markdown",
   "metadata": {},
   "source": [
    "Anonymous functions are those without a name.\n",
    "\n",
    "_lambda_ keyword is used to define an anonymous function in python."
   ]
  },
  {
   "cell_type": "code",
   "execution_count": 1,
   "metadata": {},
   "outputs": [
    {
     "name": "stdout",
     "output_type": "stream",
     "text": [
      "100\n"
     ]
    }
   ],
   "source": [
    "multi = lambda x: x*x\n",
    "\n",
    "output = multi(10)\n",
    "\n",
    "print(output)"
   ]
  },
  {
   "cell_type": "markdown",
   "metadata": {},
   "source": [
    "__Syntax__\n",
    "\n",
    "_lambda arguments : expression_"
   ]
  },
  {
   "cell_type": "markdown",
   "metadata": {},
   "source": [
    "This function can have any number of arguments but only one expression, which is evaluated and returned.\n",
    "\n",
    "lambda functions can be used wherever required.\n",
    "\n",
    "lambda functions are syntatically restricted to a single expression."
   ]
  },
  {
   "cell_type": "markdown",
   "metadata": {},
   "source": [
    "#### Condition checking using lambda"
   ]
  },
  {
   "cell_type": "code",
   "execution_count": 2,
   "metadata": {},
   "outputs": [],
   "source": [
    "int_float = lambda x: f\"{x:,.2f}\" if isinstance(x,int) else f\"{int(x)}\""
   ]
  },
  {
   "cell_type": "code",
   "execution_count": 3,
   "metadata": {},
   "outputs": [
    {
     "name": "stdout",
     "output_type": "stream",
     "text": [
      "float to int: 1245\n",
      "int to float: 352.00\n"
     ]
    }
   ],
   "source": [
    "print('float to int:',int_float(1245.325))\n",
    "print('int to float:',int_float(352))"
   ]
  },
  {
   "cell_type": "markdown",
   "metadata": {},
   "source": [
    "#### lambda with list comprehension"
   ]
  },
  {
   "cell_type": "code",
   "execution_count": 4,
   "metadata": {},
   "outputs": [
    {
     "name": "stdout",
     "output_type": "stream",
     "text": [
      "10\n",
      "20\n",
      "30\n",
      "40\n"
     ]
    }
   ],
   "source": [
    "l_comp_multi = [lambda y=x:y*10 for x in range(1,5)]\n",
    "\n",
    "for item in l_comp_multi:\n",
    "    print(item())\n",
    "    \n",
    "    \n",
    "# x is the current item in the iteration.\n",
    "# Everytime in the loop it gets assigned to y and is printed."
   ]
  },
  {
   "cell_type": "markdown",
   "metadata": {},
   "source": [
    "#### lambda function with if-else"
   ]
  },
  {
   "cell_type": "code",
   "execution_count": 5,
   "metadata": {},
   "outputs": [
    {
     "data": {
      "text/plain": [
       "4"
      ]
     },
     "execution_count": 5,
     "metadata": {},
     "output_type": "execute_result"
    }
   ],
   "source": [
    "check_func = lambda a,b: a if (a>b) else b\n",
    "\n",
    "check_func(4,2)"
   ]
  },
  {
   "cell_type": "code",
   "execution_count": 6,
   "metadata": {},
   "outputs": [
    {
     "data": {
      "text/plain": [
       "5"
      ]
     },
     "execution_count": 6,
     "metadata": {},
     "output_type": "execute_result"
    }
   ],
   "source": [
    "check_func(1,5)"
   ]
  },
  {
   "cell_type": "markdown",
   "metadata": {},
   "source": [
    "#### lambda with multiple statements"
   ]
  },
  {
   "cell_type": "code",
   "execution_count": 7,
   "metadata": {},
   "outputs": [
    {
     "data": {
      "text/plain": [
       "[5, 64, 12]"
      ]
     },
     "execution_count": 7,
     "metadata": {},
     "output_type": "execute_result"
    }
   ],
   "source": [
    "l = [[5, 2,3,4],[1, 4, 64, 16],[3, 6, 9, 12]]\n",
    "\n",
    "sortlist = lambda x: (sorted(i) for i in x)\n",
    "\n",
    "largest = lambda x,y:[j[-1] for j in y(x)]\n",
    "\n",
    "largest(l,sortlist)"
   ]
  },
  {
   "cell_type": "markdown",
   "metadata": {},
   "source": [
    "## filter()"
   ]
  },
  {
   "cell_type": "markdown",
   "metadata": {},
   "source": [
    "The filter() function accepts an object (an iterable) and returns a subsequence(an iterable object) based on given condition."
   ]
  },
  {
   "cell_type": "markdown",
   "metadata": {},
   "source": [
    "filter() accepts two arguments.\n",
    "\n",
    "1. Function\n",
    "2. iterable object (example: list, set, tuple etc.)"
   ]
  },
  {
   "cell_type": "markdown",
   "metadata": {},
   "source": [
    "> Syntax\n",
    "\n",
    "_filter(function,iterable)_"
   ]
  },
  {
   "cell_type": "markdown",
   "metadata": {},
   "source": [
    "Parameters of filter():\n",
    "    \n",
    "* **function:** if this parameter is passed then each element of the sequence will be tested by this function. If not passed, then filter() will filter out all elements from the sequence that is False, 0, None, or an empty string.\n",
    "    \n",
    "* **iterable:** Any data structure that supports iteration, such as list, tuple, string etc."
   ]
  },
  {
   "cell_type": "code",
   "execution_count": 8,
   "metadata": {},
   "outputs": [],
   "source": [
    "# The output of filter is type-casted into a sequence type"
   ]
  },
  {
   "cell_type": "code",
   "execution_count": 9,
   "metadata": {},
   "outputs": [
    {
     "data": {
      "text/plain": [
       "[2, 4, 6, 8, 10]"
      ]
     },
     "execution_count": 9,
     "metadata": {},
     "output_type": "execute_result"
    }
   ],
   "source": [
    "# filter out even numbers from the list provided\n",
    "\n",
    "l = [1,2,3,4,5,6,7,8,9,10]\n",
    "\n",
    "eve_list = list(filter(lambda x:x%2 == 0,l))\n",
    "eve_list"
   ]
  },
  {
   "cell_type": "code",
   "execution_count": 10,
   "metadata": {},
   "outputs": [
    {
     "data": {
      "text/plain": [
       "['a', 'e', 'i']"
      ]
     },
     "execution_count": 10,
     "metadata": {},
     "output_type": "execute_result"
    }
   ],
   "source": [
    "# filter vowels\n",
    "\n",
    "def word_func(letter):\n",
    "    vowels = ['a','e','i','o','u']\n",
    "    if letter in vowels:\n",
    "        return True\n",
    "    else:\n",
    "        return False\n",
    "\n",
    "letters = ['a','b','c','d','e','f','g','h','i','j','k','l','m']    \n",
    "vowel_list = list(filter(word_func,letters))\n",
    "vowel_list"
   ]
  },
  {
   "cell_type": "markdown",
   "metadata": {},
   "source": [
    "## map()"
   ]
  },
  {
   "cell_type": "markdown",
   "metadata": {},
   "source": [
    "map() function executes the function_object(lambda function and a sequence) and returns a map object(iterator) of the results after applying the given function to each item of a given iterable(list, tuple etc.)"
   ]
  },
  {
   "cell_type": "markdown",
   "metadata": {},
   "source": [
    "> Syntax\n",
    "\n",
    "_map(fun,iter)_"
   ]
  },
  {
   "cell_type": "markdown",
   "metadata": {},
   "source": [
    "Parameters:\n",
    "    \n",
    "* function: It is a function to which map passes each element of given iterable.\n",
    "\n",
    "* iter: it is the iterable which is to be mapped."
   ]
  },
  {
   "cell_type": "code",
   "execution_count": 11,
   "metadata": {},
   "outputs": [],
   "source": [
    "# One or more iterables can be passed to the map function"
   ]
  },
  {
   "cell_type": "code",
   "execution_count": 12,
   "metadata": {},
   "outputs": [
    {
     "data": {
      "text/plain": [
       "[2, 4, 6]"
      ]
     },
     "execution_count": 12,
     "metadata": {},
     "output_type": "execute_result"
    }
   ],
   "source": [
    "def add_nums(a):\n",
    "    return a+a\n",
    "\n",
    "num_list = (1,2,3)\n",
    "result = map(add_nums,num_list)\n",
    "list(result)"
   ]
  },
  {
   "cell_type": "code",
   "execution_count": 13,
   "metadata": {},
   "outputs": [
    {
     "name": "stdout",
     "output_type": "stream",
     "text": [
      "[2, 4, 6]\n"
     ]
    }
   ],
   "source": [
    "# Multiply all numbers with 2\n",
    "\n",
    "num = (1,2,3)\n",
    "result = map(lambda x:x*2,num)\n",
    "print(list(result))"
   ]
  },
  {
   "cell_type": "code",
   "execution_count": 14,
   "metadata": {},
   "outputs": [
    {
     "name": "stdout",
     "output_type": "stream",
     "text": [
      "[['a', 'p', 'p', 'l', 'e'], ['p', 'y', 't', 'h', 'o', 'n'], ['t', 'e', 'c', 'h']]\n"
     ]
    }
   ],
   "source": [
    "# list out letters of words in a nested list\n",
    "\n",
    "words = ['apple','python','tech']\n",
    "\n",
    "output = list(map(list,words))\n",
    "print(output)"
   ]
  },
  {
   "cell_type": "markdown",
   "metadata": {},
   "source": [
    "## reduce()"
   ]
  },
  {
   "cell_type": "markdown",
   "metadata": {},
   "source": [
    "It applies a given function to the elements of the iterable, reducing them to a single value."
   ]
  },
  {
   "cell_type": "markdown",
   "metadata": {},
   "source": [
    "This performs a repetitive operation over the pairs of the sequence object."
   ]
  },
  {
   "cell_type": "markdown",
   "metadata": {},
   "source": [
    "> Syntax\n",
    "\n",
    "_reduce(lambda_expression,sequence)_"
   ]
  },
  {
   "cell_type": "code",
   "execution_count": 15,
   "metadata": {},
   "outputs": [
    {
     "data": {
      "text/plain": [
       "50"
      ]
     },
     "execution_count": 15,
     "metadata": {},
     "output_type": "execute_result"
    }
   ],
   "source": [
    "from functools import reduce\n",
    "\n",
    "list_num = [5,10,15,20]\n",
    "\n",
    "reduce(lambda x,y:x+y,list_num) # Here, reduce is used to add all numbers and get the final sum of the list"
   ]
  },
  {
   "cell_type": "code",
   "execution_count": 16,
   "metadata": {},
   "outputs": [
    {
     "data": {
      "text/plain": [
       "'Hiwelcometopython'"
      ]
     },
     "execution_count": 16,
     "metadata": {},
     "output_type": "execute_result"
    }
   ],
   "source": [
    "# importing operator to perform operator functions such as add, multiply etc.\n",
    "import operator\n",
    "new_l = ['Hi','welcome','to','python']\n",
    "\n",
    "reduce(operator.add,new_l)"
   ]
  },
  {
   "cell_type": "markdown",
   "metadata": {},
   "source": [
    "## accumulate()"
   ]
  },
  {
   "cell_type": "markdown",
   "metadata": {},
   "source": [
    "accumulate() preforms operations similar to reduce() but returns an iterator with intermediate results."
   ]
  },
  {
   "cell_type": "code",
   "execution_count": 17,
   "metadata": {},
   "outputs": [
    {
     "data": {
      "text/plain": [
       "[5, 15, 30, 50]"
      ]
     },
     "execution_count": 17,
     "metadata": {},
     "output_type": "execute_result"
    }
   ],
   "source": [
    "from itertools import accumulate\n",
    "\n",
    "list_num = [5,10,15,20]\n",
    "\n",
    "list(accumulate(list_num))"
   ]
  },
  {
   "cell_type": "code",
   "execution_count": 18,
   "metadata": {},
   "outputs": [
    {
     "data": {
      "text/plain": [
       "[3, 10, 10, 10, 20, 30, 30, 60, 60, 60]"
      ]
     },
     "execution_count": 18,
     "metadata": {},
     "output_type": "execute_result"
    }
   ],
   "source": [
    "# getting the max number\n",
    "\n",
    "nums = [3,10,2,1,20,30,25,60,20,25]\n",
    "\n",
    "list(accumulate(nums,max))"
   ]
  },
  {
   "cell_type": "code",
   "execution_count": 19,
   "metadata": {},
   "outputs": [
    {
     "data": {
      "text/plain": [
       "[8, 13, 19, 26]"
      ]
     },
     "execution_count": 19,
     "metadata": {},
     "output_type": "execute_result"
    }
   ],
   "source": [
    "# difference\n",
    "\n",
    "S1 = {1,2,3,4}\n",
    "S2 = {5,6,7,8}\n",
    "\n",
    "list(accumulate(S2.difference(S1)))\n",
    "\n",
    "# First difference is found and then addition is a carried out\n",
    "# Here, It starts with the last number 8 and in the next step it adds with 5 = 13; next: 13+6 = 19; next 19+7=26\n",
    "# These numbers 13, 19, 26 are checked against set S1"
   ]
  },
  {
   "cell_type": "code",
   "execution_count": 20,
   "metadata": {},
   "outputs": [
    {
     "data": {
      "text/plain": [
       "{5, 6, 7, 8}"
      ]
     },
     "execution_count": 20,
     "metadata": {},
     "output_type": "execute_result"
    }
   ],
   "source": [
    "# This is a normal Set difference \n",
    "S2.difference(S1)"
   ]
  },
  {
   "cell_type": "markdown",
   "metadata": {},
   "source": [
    "## enumerate()"
   ]
  },
  {
   "cell_type": "markdown",
   "metadata": {},
   "source": [
    "The enumerate method adds counter to an iterable and returns it in the form of an enumerating object. This enumerated object can then be directly used for loops or converted into a list of tuples using the list() function."
   ]
  },
  {
   "cell_type": "markdown",
   "metadata": {},
   "source": [
    "> Syntax\n",
    "\n",
    "_enumerate(iterable,start = 0)_"
   ]
  },
  {
   "cell_type": "markdown",
   "metadata": {},
   "source": [
    "Parameters\n",
    "\n",
    "* iterable: any object that supports iteration\n",
    "* Start: the index value from which the counter is to be started, by default it is 0."
   ]
  },
  {
   "cell_type": "code",
   "execution_count": 2,
   "metadata": {},
   "outputs": [
    {
     "name": "stdout",
     "output_type": "stream",
     "text": [
      "<class 'enumerate'>\n",
      "[(0, 'Hi'), (1, 'Hello'), (2, 'Welcome')]\n",
      "[(3, 'P'), (4, 'y'), (5, 't'), (6, 'h'), (7, 'o'), (8, 'n')]\n"
     ]
    }
   ],
   "source": [
    "l1 = ['Hi','Hello','Welcome']\n",
    "var1 = \"Python\"\n",
    "\n",
    "obj1 = enumerate(l1)\n",
    "obj2 = enumerate(var1)\n",
    "\n",
    "print(type(obj1))\n",
    "print(list(obj1))\n",
    "\n",
    "# Setting the index position to start from 3\n",
    "print(list(enumerate(var1,3)))"
   ]
  },
  {
   "cell_type": "code",
   "execution_count": 7,
   "metadata": {},
   "outputs": [
    {
     "name": "stdout",
     "output_type": "stream",
     "text": [
      "0 A\n",
      "1 B\n",
      "2 C\n",
      "3 D\n"
     ]
    }
   ],
   "source": [
    "l3 = ['A','B','C','D']\n",
    "\n",
    "for i,j in enumerate(l3):\n",
    "    print(i,j)"
   ]
  }
 ],
 "metadata": {
  "kernelspec": {
   "display_name": "Python 3",
   "language": "python",
   "name": "python3"
  },
  "language_info": {
   "codemirror_mode": {
    "name": "ipython",
    "version": 3
   },
   "file_extension": ".py",
   "mimetype": "text/x-python",
   "name": "python",
   "nbconvert_exporter": "python",
   "pygments_lexer": "ipython3",
   "version": "3.11.4"
  }
 },
 "nbformat": 4,
 "nbformat_minor": 4
}
