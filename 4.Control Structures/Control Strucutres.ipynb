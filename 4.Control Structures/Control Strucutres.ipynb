{
 "cells": [
  {
   "cell_type": "markdown",
   "metadata": {},
   "source": [
    "## Conditional Statement"
   ]
  },
  {
   "cell_type": "markdown",
   "metadata": {},
   "source": [
    "**if** conditional statement"
   ]
  },
  {
   "cell_type": "markdown",
   "metadata": {},
   "source": [
    "Condition is a boolean expression, which is evaluated when the if statemtent is executed, and the control is transferred to the statement following the if statement."
   ]
  },
  {
   "cell_type": "markdown",
   "metadata": {},
   "source": [
    "However, if the Boolean expression evaluates to False, the sequence of statements is ignored, and the control is immediately transferred to the statement following the if statement."
   ]
  },
  {
   "cell_type": "markdown",
   "metadata": {},
   "source": [
    "Other conditional statements following \"if\" are \"elif\" and \"else\""
   ]
  },
  {
   "cell_type": "markdown",
   "metadata": {},
   "source": [
    "\"elif\" an abbrevation of else-if\n",
    "\n",
    "elif - If previous condtion fails try this condtion"
   ]
  },
  {
   "cell_type": "markdown",
   "metadata": {},
   "source": [
    "\"else\" - This statement is executed when none of the preceding statements pass the conditon."
   ]
  },
  {
   "cell_type": "markdown",
   "metadata": {},
   "source": [
    "Ultimately, conditional statements allows us to control the flow of the program based on the conditions we specify"
   ]
  },
  {
   "cell_type": "markdown",
   "metadata": {},
   "source": [
    "#### Example"
   ]
  },
  {
   "cell_type": "code",
   "execution_count": 1,
   "metadata": {},
   "outputs": [
    {
     "name": "stdout",
     "output_type": "stream",
     "text": [
      "LOGIN PORTAL\n",
      "Enter Password:abcd123\n",
      "Login Successful !\n"
     ]
    }
   ],
   "source": [
    "def authenticatepswd(password):\n",
    "    if password == 'abcd123':\n",
    "        out_msg = 'Login Successful !'\n",
    "    else:\n",
    "        out_msg = 'Incorrect Password'\n",
    "    return out_msg\n",
    "\n",
    "def main():\n",
    "    print('LOGIN PORTAL')\n",
    "    password = input(\"Enter Password:\")\n",
    "    msg = authenticatepswd(password)\n",
    "    print(msg)\n",
    "    \n",
    "if __name__ == '__main__':\n",
    "    main()"
   ]
  },
  {
   "cell_type": "code",
   "execution_count": 2,
   "metadata": {},
   "outputs": [
    {
     "name": "stdout",
     "output_type": "stream",
     "text": [
      "LOGIN PORTAL\n",
      "Enter Password:qwerty\n",
      "Incorrect Password\n"
     ]
    }
   ],
   "source": [
    "main()"
   ]
  },
  {
   "cell_type": "markdown",
   "metadata": {},
   "source": [
    "Example - if and elif"
   ]
  },
  {
   "cell_type": "code",
   "execution_count": 3,
   "metadata": {},
   "outputs": [],
   "source": [
    "def assigngrade(marks):\n",
    "    assert marks>=0 and marks<=100\n",
    "    \n",
    "    if marks >= 90:\n",
    "        grade = 'A'\n",
    "    elif marks >= 70:\n",
    "        grade = 'B'\n",
    "    elif marks >= 50:\n",
    "        grade = 'C'\n",
    "    elif marks >= 40:\n",
    "        grade = 'D'\n",
    "    else:\n",
    "        grade = 'F'\n",
    "    return grade"
   ]
  },
  {
   "cell_type": "code",
   "execution_count": 4,
   "metadata": {},
   "outputs": [
    {
     "data": {
      "text/plain": [
       "'B'"
      ]
     },
     "execution_count": 4,
     "metadata": {},
     "output_type": "execute_result"
    }
   ],
   "source": [
    "assigngrade(75)"
   ]
  },
  {
   "cell_type": "code",
   "execution_count": 5,
   "metadata": {},
   "outputs": [
    {
     "data": {
      "text/plain": [
       "'A'"
      ]
     },
     "execution_count": 5,
     "metadata": {},
     "output_type": "execute_result"
    }
   ],
   "source": [
    "assigngrade(95)"
   ]
  },
  {
   "cell_type": "code",
   "execution_count": 6,
   "metadata": {},
   "outputs": [
    {
     "data": {
      "text/plain": [
       "'F'"
      ]
     },
     "execution_count": 6,
     "metadata": {},
     "output_type": "execute_result"
    }
   ],
   "source": [
    "assigngrade(10)"
   ]
  },
  {
   "cell_type": "code",
   "execution_count": 7,
   "metadata": {},
   "outputs": [
    {
     "ename": "AssertionError",
     "evalue": "",
     "output_type": "error",
     "traceback": [
      "\u001b[1;31m---------------------------------------------------------------------------\u001b[0m",
      "\u001b[1;31mAssertionError\u001b[0m                            Traceback (most recent call last)",
      "\u001b[1;32m<ipython-input-7-94403442ebc0>\u001b[0m in \u001b[0;36m<module>\u001b[1;34m\u001b[0m\n\u001b[1;32m----> 1\u001b[1;33m \u001b[0massigngrade\u001b[0m\u001b[1;33m(\u001b[0m\u001b[1;33m-\u001b[0m\u001b[1;36m5\u001b[0m\u001b[1;33m)\u001b[0m\u001b[1;33m\u001b[0m\u001b[1;33m\u001b[0m\u001b[0m\n\u001b[0m",
      "\u001b[1;32m<ipython-input-3-55ccc7fe223e>\u001b[0m in \u001b[0;36massigngrade\u001b[1;34m(marks)\u001b[0m\n\u001b[0;32m      1\u001b[0m \u001b[1;32mdef\u001b[0m \u001b[0massigngrade\u001b[0m\u001b[1;33m(\u001b[0m\u001b[0mmarks\u001b[0m\u001b[1;33m)\u001b[0m\u001b[1;33m:\u001b[0m\u001b[1;33m\u001b[0m\u001b[1;33m\u001b[0m\u001b[0m\n\u001b[1;32m----> 2\u001b[1;33m     \u001b[1;32massert\u001b[0m \u001b[0mmarks\u001b[0m\u001b[1;33m>=\u001b[0m\u001b[1;36m0\u001b[0m \u001b[1;32mand\u001b[0m \u001b[0mmarks\u001b[0m\u001b[1;33m<=\u001b[0m\u001b[1;36m100\u001b[0m\u001b[1;33m\u001b[0m\u001b[1;33m\u001b[0m\u001b[0m\n\u001b[0m\u001b[0;32m      3\u001b[0m \u001b[1;33m\u001b[0m\u001b[0m\n\u001b[0;32m      4\u001b[0m     \u001b[1;32mif\u001b[0m \u001b[0mmarks\u001b[0m \u001b[1;33m>=\u001b[0m \u001b[1;36m90\u001b[0m\u001b[1;33m:\u001b[0m\u001b[1;33m\u001b[0m\u001b[1;33m\u001b[0m\u001b[0m\n\u001b[0;32m      5\u001b[0m         \u001b[0mgrade\u001b[0m \u001b[1;33m=\u001b[0m \u001b[1;34m'A'\u001b[0m\u001b[1;33m\u001b[0m\u001b[1;33m\u001b[0m\u001b[0m\n",
      "\u001b[1;31mAssertionError\u001b[0m: "
     ]
    }
   ],
   "source": [
    "assigngrade(-5)"
   ]
  },
  {
   "cell_type": "markdown",
   "metadata": {},
   "source": [
    "## Iteration"
   ]
  },
  {
   "cell_type": "markdown",
   "metadata": {},
   "source": [
    "#### for loop"
   ]
  },
  {
   "cell_type": "markdown",
   "metadata": {},
   "source": [
    "The control statement for is used to execute a sequence of statements a fixed number of times."
   ]
  },
  {
   "cell_type": "code",
   "execution_count": 8,
   "metadata": {},
   "outputs": [
    {
     "name": "stdout",
     "output_type": "stream",
     "text": [
      "55\n"
     ]
    }
   ],
   "source": [
    "# Sum of first n natural numbers\n",
    "\n",
    "n = 10\n",
    "\n",
    "total = 0\n",
    "for i in range(1,n+1):\n",
    "    total += i\n",
    "    \n",
    "print(total)"
   ]
  },
  {
   "cell_type": "markdown",
   "metadata": {},
   "source": [
    "#### While loop"
   ]
  },
  {
   "cell_type": "markdown",
   "metadata": {},
   "source": [
    "While loop is used for executing a sequence of statements again and again on the basis of some test condition.\n",
    "\n",
    "If the test condition holds True, the body of the loop is executed, otherwise control moves to statement following the while loop."
   ]
  },
  {
   "cell_type": "markdown",
   "metadata": {},
   "source": [
    "#### Example"
   ]
  },
  {
   "cell_type": "code",
   "execution_count": 9,
   "metadata": {},
   "outputs": [
    {
     "name": "stdout",
     "output_type": "stream",
     "text": [
      "Enter a number:20\n",
      "Enter a number:35\n",
      "Enter a number:15\n",
      "Enter a number:4\n",
      "Enter a number:\n",
      "Sum of all numbers: 74\n"
     ]
    }
   ],
   "source": [
    "# Compute sum of numbers enterd by the user\n",
    "\n",
    "total = 0\n",
    "number = input(\"Enter a number:\")\n",
    "while number !='':\n",
    "    total += int(number)\n",
    "    number = input(\"Enter a number:\")\n",
    "print(\"Sum of all numbers:\",total)"
   ]
  },
  {
   "cell_type": "markdown",
   "metadata": {},
   "source": [
    "### break, continue and pass statements"
   ]
  },
  {
   "cell_type": "markdown",
   "metadata": {},
   "source": [
    "#### break"
   ]
  },
  {
   "cell_type": "markdown",
   "metadata": {},
   "source": [
    "The break statements are used to exit loop and transfer the control to the statement following the body of the loop."
   ]
  },
  {
   "cell_type": "markdown",
   "metadata": {},
   "source": [
    "#### Example"
   ]
  },
  {
   "cell_type": "code",
   "execution_count": 2,
   "metadata": {},
   "outputs": [
    {
     "name": "stdout",
     "output_type": "stream",
     "text": [
      "Enter a number, to end press Enter:2\n",
      "2 : 4\n",
      "Enter a number, to end press Enter:3\n",
      "3 : 9\n",
      "Enter a number, to end press Enter:4\n",
      "4 : 16\n",
      "Enter a number, to end press Enter:\n",
      "End\n"
     ]
    }
   ],
   "source": [
    "# print square of positive nnumbers\n",
    "\n",
    "\n",
    "while True:\n",
    "    num = input(\"Enter a number, to end press Enter:\")\n",
    "    if num == '':\n",
    "        break\n",
    "    number = int(num)\n",
    "    print(number,\":\",number**2)\n",
    "print(\"End\")"
   ]
  },
  {
   "cell_type": "markdown",
   "metadata": {},
   "source": [
    "#### Continue"
   ]
  },
  {
   "cell_type": "markdown",
   "metadata": {},
   "source": [
    "The continue statement is used to transfer the control to the next iteration of the loop."
   ]
  },
  {
   "cell_type": "markdown",
   "metadata": {},
   "source": [
    "When the continue statement is executed, the code that occurs in the body of the loop after the continue statement is skipped."
   ]
  },
  {
   "cell_type": "markdown",
   "metadata": {},
   "source": [
    "#### Example"
   ]
  },
  {
   "cell_type": "code",
   "execution_count": 6,
   "metadata": {},
   "outputs": [
    {
     "name": "stdout",
     "output_type": "stream",
     "text": [
      "Marks for subject1:100\n",
      "Marks for subject2:120\n",
      "Invalid Mark\n",
      "Marks for subject2:55\n",
      "Marks for subject3:68\n",
      "Marks for subject4:75\n",
      "Marks for subject5:95\n",
      "Marks for subject6:\n",
      "Total Percentage 78.6 %\n"
     ]
    }
   ],
   "source": [
    "# Percentage of marks scored by a student\n",
    "\n",
    "totalmarks = 0\n",
    "subjects = 0\n",
    "\n",
    "while True:\n",
    "    marks = input(\"Marks for subject\"+str(subjects+1)+\":\")\n",
    "    if marks == \"\":\n",
    "        break\n",
    "    marks = int(marks)\n",
    "    if marks < 0 or marks > 100:\n",
    "        print(\"Invalid Mark\")\n",
    "        continue\n",
    "    subjects += 1\n",
    "    totalmarks += marks\n",
    "\n",
    "print(\"Total Percentage\",totalmarks/subjects,\"%\")"
   ]
  },
  {
   "cell_type": "markdown",
   "metadata": {},
   "source": [
    "#### pass"
   ]
  },
  {
   "cell_type": "markdown",
   "metadata": {},
   "source": [
    "The pass statement lets the program go through the piece of code without executing any code."
   ]
  },
  {
   "cell_type": "markdown",
   "metadata": {},
   "source": [
    "It is just a null operation."
   ]
  },
  {
   "cell_type": "markdown",
   "metadata": {},
   "source": [
    "Often pass statement is used as a reminder for some code, to be filled in later."
   ]
  },
  {
   "cell_type": "code",
   "execution_count": 4,
   "metadata": {},
   "outputs": [],
   "source": [
    "# Example\n",
    "\n",
    "# A program that returns the price of the product and the business thinks of allowing some discounts, but not now. Let's create\n",
    "# an option for discounts to be used later\n",
    "\n",
    "def discount_func(price):\n",
    "    pass\n",
    "\n",
    "def price_calc(price):\n",
    "    selling_price = discount_func(price)\n",
    "    if selling_price == None:\n",
    "        return price\n",
    "    else:\n",
    "        return selling_price"
   ]
  },
  {
   "cell_type": "code",
   "execution_count": 5,
   "metadata": {},
   "outputs": [
    {
     "data": {
      "text/plain": [
       "100"
      ]
     },
     "execution_count": 5,
     "metadata": {},
     "output_type": "execute_result"
    }
   ],
   "source": [
    "price_calc(100)"
   ]
  },
  {
   "cell_type": "code",
   "execution_count": 8,
   "metadata": {},
   "outputs": [],
   "source": [
    "# Adding Flat 10% Discount\n",
    "def discount_func(price):\n",
    "    disc_price = price*(0.9)\n",
    "    return disc_price"
   ]
  },
  {
   "cell_type": "code",
   "execution_count": 9,
   "metadata": {},
   "outputs": [
    {
     "data": {
      "text/plain": [
       "90.0"
      ]
     },
     "execution_count": 9,
     "metadata": {},
     "output_type": "execute_result"
    }
   ],
   "source": [
    "# Calling the price_calc\n",
    "\n",
    "price_calc(100)"
   ]
  },
  {
   "cell_type": "code",
   "execution_count": 1,
   "metadata": {},
   "outputs": [],
   "source": [
    "#--------------------------------------------------------------------------------------------------------#"
   ]
  }
 ],
 "metadata": {
  "kernelspec": {
   "display_name": "Python 3",
   "language": "python",
   "name": "python3"
  },
  "language_info": {
   "codemirror_mode": {
    "name": "ipython",
    "version": 3
   },
   "file_extension": ".py",
   "mimetype": "text/x-python",
   "name": "python",
   "nbconvert_exporter": "python",
   "pygments_lexer": "ipython3",
   "version": "3.8.5"
  }
 },
 "nbformat": 4,
 "nbformat_minor": 4
}
