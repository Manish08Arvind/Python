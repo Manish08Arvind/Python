{
 "cells": [
  {
   "cell_type": "markdown",
   "id": "a14c72eb",
   "metadata": {},
   "source": [
    "# Numpy"
   ]
  },
  {
   "cell_type": "markdown",
   "id": "66d541e5",
   "metadata": {},
   "source": [
    "Numpy is a general-purpose array processing package.\n",
    "\n",
    "It provides a high-performance multidimensional array object and tools for working with these arrays.\n",
    "\n",
    "It is the fundamental package for scientific computing with python."
   ]
  },
  {
   "cell_type": "markdown",
   "id": "e4fdf800",
   "metadata": {},
   "source": [
    "## Operations using NumPy"
   ]
  },
  {
   "cell_type": "markdown",
   "id": "bebc811f",
   "metadata": {},
   "source": [
    "The following operations can be performed using NumPy:\n",
    "    \n",
    "> Mathematical and logical operators on arrays.\n",
    "\n",
    "> Fourier transforms and routines for shape manipulation.\n",
    "\n",
    "> Operations related to linear algebra. NumPy has in-built functions for linear algebra and random number generation."
   ]
  },
  {
   "cell_type": "markdown",
   "id": "40311a51",
   "metadata": {},
   "source": [
    "## NumPy - A Replacement for MatLab"
   ]
  },
  {
   "cell_type": "markdown",
   "id": "a532f774",
   "metadata": {},
   "source": [
    "NumPy is often used along with packages like Scipy(Scientific Python) and Mat-plotlob(plotting library).\n",
    "\n",
    "This combination is widely used as a replacement for Matlab, a popular platform for technical computing.\n",
    "\n",
    "However, Python alternative to Matlab is now seen as a more modern and complete programming language."
   ]
  },
  {
   "cell_type": "markdown",
   "id": "70ad82ca",
   "metadata": {},
   "source": [
    "### Is NumPy faster than Python lists?"
   ]
  },
  {
   "cell_type": "markdown",
   "id": "f825ab4f",
   "metadata": {},
   "source": [
    "As an array it is a collection of homogeneous data-types that are stored in contiguous memory locations.\n",
    "\n",
    "The NumPy package breaks down a task into multiple fragments and the processes all the fragments parallely.\n",
    "\n",
    "The NumPy package integrates C, C++ and Fortran codes in python\\. These programming languages have very little execution time compared to Python."
   ]
  },
  {
   "cell_type": "markdown",
   "id": "82ea2168",
   "metadata": {},
   "source": [
    "_Let's Code-in_"
   ]
  },
  {
   "cell_type": "code",
   "execution_count": 1,
   "id": "b2b8ac0a",
   "metadata": {},
   "outputs": [],
   "source": [
    "# First things first - Import the package \n",
    "import numpy as np"
   ]
  },
  {
   "cell_type": "markdown",
   "id": "b3071d14",
   "metadata": {},
   "source": [
    "### Create a Matrix"
   ]
  },
  {
   "cell_type": "code",
   "execution_count": 2,
   "id": "21a8d27e",
   "metadata": {},
   "outputs": [
    {
     "name": "stdout",
     "output_type": "stream",
     "text": [
      "List\n",
      "[1, 2, 3, 4, 5]\n",
      "<class 'list'>\n",
      "\n",
      "NumPy array\n",
      "[1 2 3 4 5]\n",
      "<class 'numpy.ndarray'>\n"
     ]
    }
   ],
   "source": [
    "mylist = [1,2,3,4,5]\n",
    "arr = np.array(mylist)\n",
    "print('List')\n",
    "print(mylist)\n",
    "print(type(mylist))\n",
    "print()\n",
    "print('NumPy array')\n",
    "print(arr)\n",
    "print(type(arr))"
   ]
  },
  {
   "cell_type": "markdown",
   "id": "f123bb2e",
   "metadata": {},
   "source": [
    "linspace generates data in equitable distance between them"
   ]
  },
  {
   "cell_type": "code",
   "execution_count": 3,
   "id": "adda617f",
   "metadata": {},
   "outputs": [
    {
     "data": {
      "text/plain": [
       "array([ 1.        ,  1.18367347,  1.36734694,  1.55102041,  1.73469388,\n",
       "        1.91836735,  2.10204082,  2.28571429,  2.46938776,  2.65306122,\n",
       "        2.83673469,  3.02040816,  3.20408163,  3.3877551 ,  3.57142857,\n",
       "        3.75510204,  3.93877551,  4.12244898,  4.30612245,  4.48979592,\n",
       "        4.67346939,  4.85714286,  5.04081633,  5.2244898 ,  5.40816327,\n",
       "        5.59183673,  5.7755102 ,  5.95918367,  6.14285714,  6.32653061,\n",
       "        6.51020408,  6.69387755,  6.87755102,  7.06122449,  7.24489796,\n",
       "        7.42857143,  7.6122449 ,  7.79591837,  7.97959184,  8.16326531,\n",
       "        8.34693878,  8.53061224,  8.71428571,  8.89795918,  9.08163265,\n",
       "        9.26530612,  9.44897959,  9.63265306,  9.81632653, 10.        ])"
      ]
     },
     "execution_count": 3,
     "metadata": {},
     "output_type": "execute_result"
    }
   ],
   "source": [
    "np.linspace(1,10)"
   ]
  },
  {
   "cell_type": "code",
   "execution_count": 4,
   "id": "c6f3421b",
   "metadata": {},
   "outputs": [
    {
     "data": {
      "text/plain": [
       "array([ 1.  ,  3.25,  5.5 ,  7.75, 10.  ])"
      ]
     },
     "execution_count": 4,
     "metadata": {},
     "output_type": "execute_result"
    }
   ],
   "source": [
    "np.linspace(1,10,5)"
   ]
  },
  {
   "cell_type": "markdown",
   "id": "bd8e3a25",
   "metadata": {},
   "source": [
    "Dimensions"
   ]
  },
  {
   "cell_type": "code",
   "execution_count": 5,
   "id": "ce5f0669",
   "metadata": {},
   "outputs": [
    {
     "data": {
      "text/plain": [
       "1"
      ]
     },
     "execution_count": 5,
     "metadata": {},
     "output_type": "execute_result"
    }
   ],
   "source": [
    "arr.ndim"
   ]
  },
  {
   "cell_type": "markdown",
   "id": "76c1f4b6",
   "metadata": {},
   "source": [
    "Size"
   ]
  },
  {
   "cell_type": "code",
   "execution_count": 6,
   "id": "c529640a",
   "metadata": {},
   "outputs": [
    {
     "data": {
      "text/plain": [
       "5"
      ]
     },
     "execution_count": 6,
     "metadata": {},
     "output_type": "execute_result"
    }
   ],
   "source": [
    "arr.size"
   ]
  },
  {
   "cell_type": "markdown",
   "id": "f98252cc",
   "metadata": {},
   "source": [
    "Shape"
   ]
  },
  {
   "cell_type": "code",
   "execution_count": 7,
   "id": "472bface",
   "metadata": {},
   "outputs": [
    {
     "data": {
      "text/plain": [
       "(5,)"
      ]
     },
     "execution_count": 7,
     "metadata": {},
     "output_type": "execute_result"
    }
   ],
   "source": [
    "arr.shape"
   ]
  },
  {
   "cell_type": "markdown",
   "id": "903f72fa",
   "metadata": {},
   "source": [
    "dtype"
   ]
  },
  {
   "cell_type": "code",
   "execution_count": 8,
   "id": "2943fbf3",
   "metadata": {},
   "outputs": [
    {
     "data": {
      "text/plain": [
       "dtype('int32')"
      ]
     },
     "execution_count": 8,
     "metadata": {},
     "output_type": "execute_result"
    }
   ],
   "source": [
    "arr.dtype"
   ]
  },
  {
   "cell_type": "markdown",
   "id": "05bfcd2c",
   "metadata": {},
   "source": [
    "itemsize"
   ]
  },
  {
   "cell_type": "code",
   "execution_count": 9,
   "id": "45f4108d",
   "metadata": {},
   "outputs": [
    {
     "data": {
      "text/plain": [
       "4"
      ]
     },
     "execution_count": 9,
     "metadata": {},
     "output_type": "execute_result"
    }
   ],
   "source": [
    "arr.itemsize # since, dtype is int32 it equals to 4 bytes"
   ]
  },
  {
   "cell_type": "markdown",
   "id": "aa392f01",
   "metadata": {},
   "source": [
    "### 2-D Matrix"
   ]
  },
  {
   "cell_type": "code",
   "execution_count": 10,
   "id": "e7c4bf40",
   "metadata": {},
   "outputs": [
    {
     "name": "stdout",
     "output_type": "stream",
     "text": [
      "[[1, 2, 3], [4, 5, 6], [7, 8, 9]]\n"
     ]
    }
   ],
   "source": [
    "mylist2 = [[1,2,3],[4,5,6],[7,8,9]]\n",
    "print(mylist2)"
   ]
  },
  {
   "cell_type": "code",
   "execution_count": 11,
   "id": "8cee60fd",
   "metadata": {},
   "outputs": [
    {
     "name": "stdout",
     "output_type": "stream",
     "text": [
      "[[1 2 3]\n",
      " [4 5 6]\n",
      " [7 8 9]]\n",
      "2\n",
      "(3, 3)\n"
     ]
    }
   ],
   "source": [
    "arr2 = np.array(mylist2)\n",
    "print(arr2)\n",
    "print(arr2.ndim)\n",
    "print(arr2.shape)"
   ]
  },
  {
   "cell_type": "code",
   "execution_count": 12,
   "id": "88d2bd47",
   "metadata": {},
   "outputs": [
    {
     "data": {
      "text/plain": [
       "array([0, 1, 2, 3, 4, 5, 6, 7, 8, 9])"
      ]
     },
     "execution_count": 12,
     "metadata": {},
     "output_type": "execute_result"
    }
   ],
   "source": [
    "n3 = np.arange(10)\n",
    "n3"
   ]
  },
  {
   "cell_type": "code",
   "execution_count": 13,
   "id": "b4463375",
   "metadata": {},
   "outputs": [
    {
     "data": {
      "text/plain": [
       "array([[0, 1],\n",
       "       [2, 3],\n",
       "       [4, 5],\n",
       "       [6, 7],\n",
       "       [8, 9]])"
      ]
     },
     "execution_count": 13,
     "metadata": {},
     "output_type": "execute_result"
    }
   ],
   "source": [
    "n3.reshape(5,2)"
   ]
  },
  {
   "cell_type": "code",
   "execution_count": 14,
   "id": "2966f291",
   "metadata": {},
   "outputs": [
    {
     "data": {
      "text/plain": [
       "array([[0, 1],\n",
       "       [2, 3],\n",
       "       [4, 5],\n",
       "       [6, 7],\n",
       "       [8, 9]])"
      ]
     },
     "execution_count": 14,
     "metadata": {},
     "output_type": "execute_result"
    }
   ],
   "source": [
    "n3.reshape(-1,2)\n",
    "# This means it will reshape till it's ability to create a matrix with 2 columns and rows based on number of elements"
   ]
  },
  {
   "cell_type": "markdown",
   "id": "c7a5db90",
   "metadata": {},
   "source": [
    "#### Random seed"
   ]
  },
  {
   "cell_type": "markdown",
   "id": "2b9cf8fb",
   "metadata": {},
   "source": [
    "Numpy random seed is a function that sets the seed for generating random numbers.\n",
    "\n",
    "Specifying the seed value ensures the sequence of random numbers generated remains the same across multiple runs."
   ]
  },
  {
   "cell_type": "code",
   "execution_count": 15,
   "id": "1b944140",
   "metadata": {},
   "outputs": [],
   "source": [
    "np.random.seed(23)"
   ]
  },
  {
   "cell_type": "code",
   "execution_count": 16,
   "id": "6d7652c5",
   "metadata": {},
   "outputs": [
    {
     "data": {
      "text/plain": [
       "array([[93, 50, 83, 64],\n",
       "       [41, 86, 49, 35],\n",
       "       [61, 16, 55, 22]])"
      ]
     },
     "execution_count": 16,
     "metadata": {},
     "output_type": "execute_result"
    }
   ],
   "source": [
    "n34 = np.random.randint(low=10,high=100,size=(3,4))\n",
    "n34"
   ]
  },
  {
   "cell_type": "code",
   "execution_count": 17,
   "id": "cad2d8f8",
   "metadata": {},
   "outputs": [
    {
     "data": {
      "text/plain": [
       "array([59, 76, 85, 95, 79, 74, 22, 31, 58, 51, 89, 72])"
      ]
     },
     "execution_count": 17,
     "metadata": {},
     "output_type": "execute_result"
    }
   ],
   "source": [
    "n43 = np.random.randint(low=10,high=100,size=12)\n",
    "n43"
   ]
  },
  {
   "cell_type": "code",
   "execution_count": 18,
   "id": "7b21dcab",
   "metadata": {},
   "outputs": [
    {
     "data": {
      "text/plain": [
       "array([[59, 76, 85],\n",
       "       [95, 79, 74],\n",
       "       [22, 31, 58],\n",
       "       [51, 89, 72]])"
      ]
     },
     "execution_count": 18,
     "metadata": {},
     "output_type": "execute_result"
    }
   ],
   "source": [
    "n43.reshape(4,3)"
   ]
  },
  {
   "cell_type": "code",
   "execution_count": 19,
   "id": "3c0973b0",
   "metadata": {},
   "outputs": [
    {
     "data": {
      "text/plain": [
       "array([[ 1.11872163,  0.80399214, -1.84926796,  1.38809014],\n",
       "       [-2.41201527, -0.45175246,  1.17420672,  0.76634838]])"
      ]
     },
     "execution_count": 19,
     "metadata": {},
     "output_type": "execute_result"
    }
   ],
   "source": [
    "np.random.randn(2,4) # randomly generates numbers for 2 rows and 4 columns"
   ]
  },
  {
   "cell_type": "code",
   "execution_count": 20,
   "id": "5bfee59a",
   "metadata": {},
   "outputs": [
    {
     "data": {
      "text/plain": [
       "array([[4, 4, 3, 4, 4],\n",
       "       [2, 3, 2, 2, 3],\n",
       "       [2, 4, 4, 4, 4],\n",
       "       [2, 3, 4, 2, 4],\n",
       "       [2, 2, 4, 4, 2]])"
      ]
     },
     "execution_count": 20,
     "metadata": {},
     "output_type": "execute_result"
    }
   ],
   "source": [
    "np.random.randint(2,5,(5,5)) # numbers between 2 and 5 of shape 5 x 5"
   ]
  },
  {
   "cell_type": "markdown",
   "id": "d5ab31bd",
   "metadata": {},
   "source": [
    "### Operations on Arrays"
   ]
  },
  {
   "cell_type": "code",
   "execution_count": 21,
   "id": "c0e0ef74",
   "metadata": {},
   "outputs": [
    {
     "name": "stdout",
     "output_type": "stream",
     "text": [
      "[1 3 5]\n",
      "[11 13 15]\n"
     ]
    }
   ],
   "source": [
    "n6a = np.arange(1,7,2)\n",
    "n6b = np.arange(11,17,2)\n",
    "\n",
    "print(n6a)\n",
    "print(n6b)"
   ]
  },
  {
   "cell_type": "code",
   "execution_count": 22,
   "id": "2ab8f660",
   "metadata": {},
   "outputs": [
    {
     "data": {
      "text/plain": [
       "array([12, 16, 20])"
      ]
     },
     "execution_count": 22,
     "metadata": {},
     "output_type": "execute_result"
    }
   ],
   "source": [
    "n6a+n6b"
   ]
  },
  {
   "cell_type": "code",
   "execution_count": 23,
   "id": "79e8bf76",
   "metadata": {},
   "outputs": [
    {
     "name": "stdout",
     "output_type": "stream",
     "text": [
      "[[ 1  2  3  4]\n",
      " [ 5  6  7  8]\n",
      " [ 9 10 11 12]]\n",
      "\n",
      "[[21 22 23 24]\n",
      " [25 26 27 28]\n",
      " [29 30 31 32]]\n"
     ]
    }
   ],
   "source": [
    "n34a = np.arange(1,13).reshape(3,4)\n",
    "n34b = np.arange(21,33).reshape(3,4)\n",
    "\n",
    "print(n34a)\n",
    "print()\n",
    "print(n34b)"
   ]
  },
  {
   "cell_type": "code",
   "execution_count": 24,
   "id": "15e237d4",
   "metadata": {},
   "outputs": [
    {
     "data": {
      "text/plain": [
       "array([[22, 24, 26, 28],\n",
       "       [30, 32, 34, 36],\n",
       "       [38, 40, 42, 44]])"
      ]
     },
     "execution_count": 24,
     "metadata": {},
     "output_type": "execute_result"
    }
   ],
   "source": [
    "n34a+n34b"
   ]
  },
  {
   "cell_type": "code",
   "execution_count": 25,
   "id": "c9bffaa3",
   "metadata": {},
   "outputs": [
    {
     "data": {
      "text/plain": [
       "array([[ 21,  44,  69,  96],\n",
       "       [125, 156, 189, 224],\n",
       "       [261, 300, 341, 384]])"
      ]
     },
     "execution_count": 25,
     "metadata": {},
     "output_type": "execute_result"
    }
   ],
   "source": [
    "n34a*n34b"
   ]
  },
  {
   "cell_type": "code",
   "execution_count": 26,
   "id": "0d6e4226",
   "metadata": {},
   "outputs": [
    {
     "data": {
      "text/plain": [
       "array([[0.04761905, 0.09090909, 0.13043478, 0.16666667],\n",
       "       [0.2       , 0.23076923, 0.25925926, 0.28571429],\n",
       "       [0.31034483, 0.33333333, 0.35483871, 0.375     ]])"
      ]
     },
     "execution_count": 26,
     "metadata": {},
     "output_type": "execute_result"
    }
   ],
   "source": [
    "n34a/n34b"
   ]
  },
  {
   "cell_type": "code",
   "execution_count": 27,
   "id": "6ec3ceaa",
   "metadata": {},
   "outputs": [
    {
     "data": {
      "text/plain": [
       "array([[21, 22, 23],\n",
       "       [24, 25, 26],\n",
       "       [27, 28, 29],\n",
       "       [30, 31, 32]])"
      ]
     },
     "execution_count": 27,
     "metadata": {},
     "output_type": "execute_result"
    }
   ],
   "source": [
    "n43 = np.arange(21,33).reshape(4,3)\n",
    "n43"
   ]
  },
  {
   "cell_type": "code",
   "execution_count": 28,
   "id": "7bc1d40c",
   "metadata": {},
   "outputs": [
    {
     "data": {
      "text/plain": [
       "array([[ 270,  280,  290],\n",
       "       [ 678,  704,  730],\n",
       "       [1086, 1128, 1170]])"
      ]
     },
     "execution_count": 28,
     "metadata": {},
     "output_type": "execute_result"
    }
   ],
   "source": [
    "n34a@n43 # dot product"
   ]
  },
  {
   "cell_type": "markdown",
   "id": "d057e678",
   "metadata": {},
   "source": [
    " ### Access"
   ]
  },
  {
   "cell_type": "markdown",
   "id": "4a5ef0f0",
   "metadata": {},
   "source": [
    "#### We pass index numbers to access and operate with arrays or matrices"
   ]
  },
  {
   "cell_type": "code",
   "execution_count": 29,
   "id": "538bc94e",
   "metadata": {},
   "outputs": [
    {
     "data": {
      "text/plain": [
       "array([[80, 76, 92, 95, 65, 37, 72, 53, 84],\n",
       "       [81, 52, 93, 31, 16, 78, 32, 53, 18],\n",
       "       [95, 72, 42, 70, 21, 11, 51, 36, 47],\n",
       "       [51, 66, 49, 91, 42, 63, 45, 33, 39],\n",
       "       [52, 48, 14, 42, 60, 95, 37, 43, 44],\n",
       "       [10, 21, 72, 98, 64, 99, 88, 51, 80],\n",
       "       [95, 15, 17, 14, 26, 19, 66, 58, 53]])"
      ]
     },
     "execution_count": 29,
     "metadata": {},
     "output_type": "execute_result"
    }
   ],
   "source": [
    "n79 = np.random.randint(low=10,high=100,size=(7,9))\n",
    "n79"
   ]
  },
  {
   "cell_type": "markdown",
   "id": "9bb9afb3",
   "metadata": {},
   "source": [
    "Zeroth Row"
   ]
  },
  {
   "cell_type": "code",
   "execution_count": 30,
   "id": "5ef03963",
   "metadata": {},
   "outputs": [
    {
     "data": {
      "text/plain": [
       "array([80, 76, 92, 95, 65, 37, 72, 53, 84])"
      ]
     },
     "execution_count": 30,
     "metadata": {},
     "output_type": "execute_result"
    }
   ],
   "source": [
    "n79[0]"
   ]
  },
  {
   "cell_type": "code",
   "execution_count": 31,
   "id": "ad37988c",
   "metadata": {},
   "outputs": [
    {
     "data": {
      "text/plain": [
       "array([42, 49, 14, 72, 17])"
      ]
     },
     "execution_count": 31,
     "metadata": {},
     "output_type": "execute_result"
    }
   ],
   "source": [
    "# Just some free style fetches\n",
    "\n",
    "n79[2:,2] # fetch in 3nd row  and 3rd column"
   ]
  },
  {
   "cell_type": "code",
   "execution_count": 32,
   "id": "46996357",
   "metadata": {},
   "outputs": [
    {
     "data": {
      "text/plain": [
       "array([[80, 76, 92, 95, 65],\n",
       "       [81, 52, 93, 31, 16],\n",
       "       [95, 72, 42, 70, 21],\n",
       "       [51, 66, 49, 91, 42]])"
      ]
     },
     "execution_count": 32,
     "metadata": {},
     "output_type": "execute_result"
    }
   ],
   "source": [
    "n79[0:4,:5] # first 4 rows and first 5 columns"
   ]
  },
  {
   "cell_type": "code",
   "execution_count": 33,
   "id": "17ada01c",
   "metadata": {},
   "outputs": [
    {
     "data": {
      "text/plain": [
       "array([[76, 65],\n",
       "       [72, 21],\n",
       "       [48, 60]])"
      ]
     },
     "execution_count": 33,
     "metadata": {},
     "output_type": "execute_result"
    }
   ],
   "source": [
    "# stepped fetch\n",
    "\n",
    "n79[0:6:2,1:5:3]\n",
    "\n",
    "# Row\n",
    "# starts from 1st row skips two rows and ends at 6th row\n",
    "\n",
    "# column\n",
    "# starts from 2nd column skips 3 columns and ends at 5th column\n",
    "\n",
    "# Row to column movement\n",
    "# 1st row - 2nd column\n",
    "# 1st row - 5th column\n",
    "\n",
    "# 3rd row - 2nd column\n",
    "# 3rd row - 5th column\n",
    "\n",
    "# 5th row - 2nd column\n",
    "# 5th row - 5th column"
   ]
  },
  {
   "cell_type": "markdown",
   "id": "45842fa2",
   "metadata": {},
   "source": [
    "vector"
   ]
  },
  {
   "cell_type": "code",
   "execution_count": 34,
   "id": "7c53cdf5",
   "metadata": {},
   "outputs": [
    {
     "data": {
      "text/plain": [
       "array([[81, 52, 93, 31, 16, 78, 32, 53, 18],\n",
       "       [95, 72, 42, 70, 21, 11, 51, 36, 47],\n",
       "       [51, 66, 49, 91, 42, 63, 45, 33, 39]])"
      ]
     },
     "execution_count": 34,
     "metadata": {},
     "output_type": "execute_result"
    }
   ],
   "source": [
    "n79[[1,2,3]] # first, second and third row"
   ]
  },
  {
   "cell_type": "code",
   "execution_count": 35,
   "id": "8177f657",
   "metadata": {},
   "outputs": [
    {
     "data": {
      "text/plain": [
       "array([52, 42])"
      ]
     },
     "execution_count": 35,
     "metadata": {},
     "output_type": "execute_result"
    }
   ],
   "source": [
    "n79[[1,2],[1,2]] # n[[row],[col]]"
   ]
  },
  {
   "cell_type": "code",
   "execution_count": 36,
   "id": "effcf7f9",
   "metadata": {},
   "outputs": [
    {
     "data": {
      "text/plain": [
       "[(1, 3), (2, 4)]"
      ]
     },
     "execution_count": 36,
     "metadata": {},
     "output_type": "execute_result"
    }
   ],
   "source": [
    "list(zip([1,2],[3,4]))"
   ]
  },
  {
   "cell_type": "code",
   "execution_count": 37,
   "id": "31ccdf6c",
   "metadata": {},
   "outputs": [
    {
     "data": {
      "text/plain": [
       "array([[ True, False, False, False, False],\n",
       "       [False,  True, False, False, False],\n",
       "       [False, False,  True, False, False],\n",
       "       [False, False, False,  True, False],\n",
       "       [False, False, False, False,  True]])"
      ]
     },
     "execution_count": 37,
     "metadata": {},
     "output_type": "execute_result"
    }
   ],
   "source": [
    "np.fromfunction(lambda i,j: i==j,(5,5))"
   ]
  },
  {
   "cell_type": "markdown",
   "id": "9decde54",
   "metadata": {},
   "source": [
    "#### Matrix"
   ]
  },
  {
   "cell_type": "code",
   "execution_count": 38,
   "id": "a337a808",
   "metadata": {},
   "outputs": [
    {
     "data": {
      "text/plain": [
       "array([[1, 2, 3],\n",
       "       [4, 5, 6],\n",
       "       [7, 8, 9]])"
      ]
     },
     "execution_count": 38,
     "metadata": {},
     "output_type": "execute_result"
    }
   ],
   "source": [
    "arr2"
   ]
  },
  {
   "cell_type": "code",
   "execution_count": 39,
   "id": "453545a0",
   "metadata": {},
   "outputs": [
    {
     "data": {
      "text/plain": [
       "matrix([[1, 2, 3],\n",
       "        [4, 5, 6],\n",
       "        [7, 8, 9]])"
      ]
     },
     "execution_count": 39,
     "metadata": {},
     "output_type": "execute_result"
    }
   ],
   "source": [
    "mat = np.mat(arr2)\n",
    "mat"
   ]
  },
  {
   "cell_type": "code",
   "execution_count": 40,
   "id": "433d4be9",
   "metadata": {},
   "outputs": [
    {
     "data": {
      "text/plain": [
       "numpy.matrix"
      ]
     },
     "execution_count": 40,
     "metadata": {},
     "output_type": "execute_result"
    }
   ],
   "source": [
    "type(np.mat(arr2))"
   ]
  },
  {
   "cell_type": "code",
   "execution_count": 41,
   "id": "09e47e46",
   "metadata": {},
   "outputs": [
    {
     "data": {
      "text/plain": [
       "[1, 2, 3, 4, 5]"
      ]
     },
     "execution_count": 41,
     "metadata": {},
     "output_type": "execute_result"
    }
   ],
   "source": [
    "mylist"
   ]
  },
  {
   "cell_type": "code",
   "execution_count": 42,
   "id": "f63bc1fc",
   "metadata": {},
   "outputs": [
    {
     "data": {
      "text/plain": [
       "array([1, 2, 3, 4, 5])"
      ]
     },
     "execution_count": 42,
     "metadata": {},
     "output_type": "execute_result"
    }
   ],
   "source": [
    "np.asarray(mylist)"
   ]
  },
  {
   "cell_type": "code",
   "execution_count": 43,
   "id": "3c0d36fb",
   "metadata": {},
   "outputs": [
    {
     "data": {
      "text/plain": [
       "array([1, 2, 3, 4, 5])"
      ]
     },
     "execution_count": 43,
     "metadata": {},
     "output_type": "execute_result"
    }
   ],
   "source": [
    "np.asanyarray(mylist)"
   ]
  },
  {
   "cell_type": "code",
   "execution_count": 44,
   "id": "33ad6382",
   "metadata": {},
   "outputs": [
    {
     "data": {
      "text/plain": [
       "matrix([[1, 2, 3],\n",
       "        [4, 5, 6],\n",
       "        [7, 8, 9]])"
      ]
     },
     "execution_count": 44,
     "metadata": {},
     "output_type": "execute_result"
    }
   ],
   "source": [
    "np.asanyarray(mat)\n",
    "\n",
    "# Here, it doesn't get converted to array because matrix belongs to the family array and \"any\" inhibits that feature."
   ]
  },
  {
   "cell_type": "code",
   "execution_count": 45,
   "id": "bfec8c9b",
   "metadata": {},
   "outputs": [
    {
     "data": {
      "text/plain": [
       "array([[1, 2, 3],\n",
       "       [4, 5, 6],\n",
       "       [7, 8, 9]])"
      ]
     },
     "execution_count": 45,
     "metadata": {},
     "output_type": "execute_result"
    }
   ],
   "source": [
    "# On the other hand, asarray converts matrix to an array\n",
    "np.asarray(mat)"
   ]
  },
  {
   "cell_type": "code",
   "execution_count": 46,
   "id": "ecc4cd63",
   "metadata": {},
   "outputs": [
    {
     "data": {
      "text/plain": [
       "True"
      ]
     },
     "execution_count": 46,
     "metadata": {},
     "output_type": "execute_result"
    }
   ],
   "source": [
    "# checking if matrix is a subclass of array\n",
    "\n",
    "issubclass(np.matrix,np.ndarray)"
   ]
  },
  {
   "cell_type": "code",
   "execution_count": 47,
   "id": "56d30fda",
   "metadata": {},
   "outputs": [
    {
     "data": {
      "text/plain": [
       "False"
      ]
     },
     "execution_count": 47,
     "metadata": {},
     "output_type": "execute_result"
    }
   ],
   "source": [
    "issubclass(np.ndarray,np.matrix)"
   ]
  },
  {
   "cell_type": "markdown",
   "id": "919bc2c4",
   "metadata": {},
   "source": [
    "#### Shallow and Deep copy in array"
   ]
  },
  {
   "cell_type": "code",
   "execution_count": 48,
   "id": "2bad107d",
   "metadata": {},
   "outputs": [
    {
     "data": {
      "text/plain": [
       "array([1, 2, 3, 4, 5])"
      ]
     },
     "execution_count": 48,
     "metadata": {},
     "output_type": "execute_result"
    }
   ],
   "source": [
    "arr"
   ]
  },
  {
   "cell_type": "code",
   "execution_count": 49,
   "id": "3467a430",
   "metadata": {},
   "outputs": [
    {
     "data": {
      "text/plain": [
       "array([1, 2, 3, 4, 5])"
      ]
     },
     "execution_count": 49,
     "metadata": {},
     "output_type": "execute_result"
    }
   ],
   "source": [
    "a = arr\n",
    "a"
   ]
  },
  {
   "cell_type": "code",
   "execution_count": 50,
   "id": "c1034fa8",
   "metadata": {},
   "outputs": [
    {
     "data": {
      "text/plain": [
       "array([1, 2, 3, 4, 5])"
      ]
     },
     "execution_count": 50,
     "metadata": {},
     "output_type": "execute_result"
    }
   ],
   "source": [
    "b = np.copy(arr)\n",
    "b"
   ]
  },
  {
   "cell_type": "code",
   "execution_count": 51,
   "id": "f9a2ca4f",
   "metadata": {},
   "outputs": [
    {
     "data": {
      "text/plain": [
       "array([ 1,  2,  3,  4, 10])"
      ]
     },
     "execution_count": 51,
     "metadata": {},
     "output_type": "execute_result"
    }
   ],
   "source": [
    "# let's modify a value in arr\n",
    "\n",
    "arr[-1] = 10 #changing last value to 10\n",
    "arr"
   ]
  },
  {
   "cell_type": "code",
   "execution_count": 52,
   "id": "4cfb7fa9",
   "metadata": {},
   "outputs": [
    {
     "data": {
      "text/plain": [
       "array([ 1,  2,  3,  4, 10])"
      ]
     },
     "execution_count": 52,
     "metadata": {},
     "output_type": "execute_result"
    }
   ],
   "source": [
    "# print a\n",
    "a"
   ]
  },
  {
   "cell_type": "markdown",
   "id": "c5b5c2a4",
   "metadata": {},
   "source": [
    "Changes reflect in a due to the nature of shallow copy"
   ]
  },
  {
   "cell_type": "markdown",
   "id": "e928990e",
   "metadata": {},
   "source": [
    "Whereas, b doesn't reflect any changes because it has taken a deep copy"
   ]
  },
  {
   "cell_type": "code",
   "execution_count": 53,
   "id": "e58efc5e",
   "metadata": {},
   "outputs": [
    {
     "data": {
      "text/plain": [
       "array([1, 2, 3, 4, 5])"
      ]
     },
     "execution_count": 53,
     "metadata": {},
     "output_type": "execute_result"
    }
   ],
   "source": [
    "b"
   ]
  },
  {
   "cell_type": "markdown",
   "id": "d4c015af",
   "metadata": {},
   "source": [
    "Traversing through an array using for loop"
   ]
  },
  {
   "cell_type": "code",
   "execution_count": 54,
   "id": "a93badf8",
   "metadata": {},
   "outputs": [
    {
     "data": {
      "text/plain": [
       "array([[1, 2, 3],\n",
       "       [4, 5, 6],\n",
       "       [7, 8, 9]])"
      ]
     },
     "execution_count": 54,
     "metadata": {},
     "output_type": "execute_result"
    }
   ],
   "source": [
    "arr2"
   ]
  },
  {
   "cell_type": "code",
   "execution_count": 55,
   "id": "5afe2581",
   "metadata": {},
   "outputs": [
    {
     "name": "stdout",
     "output_type": "stream",
     "text": [
      "[1 2 3]\n",
      "[4 5 6]\n",
      "[7 8 9]\n"
     ]
    }
   ],
   "source": [
    "for i in arr2:\n",
    "    print(i)"
   ]
  },
  {
   "cell_type": "markdown",
   "id": "265efc46",
   "metadata": {},
   "source": [
    "np.fromfunction"
   ]
  },
  {
   "cell_type": "markdown",
   "id": "27d71baf",
   "metadata": {},
   "source": [
    "np.fromfunction generates an array based on the functional logic defined in it.\n",
    "It constructs the entire array by passing the function to each position of the array.\n",
    "An example to detail it is below."
   ]
  },
  {
   "cell_type": "code",
   "execution_count": 56,
   "id": "42cae89e",
   "metadata": {},
   "outputs": [
    {
     "data": {
      "text/plain": [
       "array([[ True, False, False],\n",
       "       [False,  True, False],\n",
       "       [False, False,  True]])"
      ]
     },
     "execution_count": 56,
     "metadata": {},
     "output_type": "execute_result"
    }
   ],
   "source": [
    "np.fromfunction(lambda i,j:i==j,(3,3))"
   ]
  },
  {
   "cell_type": "code",
   "execution_count": 57,
   "id": "de35188f",
   "metadata": {},
   "outputs": [
    {
     "data": {
      "text/plain": [
       "array([[0., 1., 2.],\n",
       "       [1., 2., 3.],\n",
       "       [2., 3., 4.]])"
      ]
     },
     "execution_count": 57,
     "metadata": {},
     "output_type": "execute_result"
    }
   ],
   "source": [
    "np.fromfunction(lambda i,j:i+j,(3,3))"
   ]
  },
  {
   "cell_type": "code",
   "execution_count": 58,
   "id": "a1a880c7",
   "metadata": {},
   "outputs": [
    {
     "name": "stderr",
     "output_type": "stream",
     "text": [
      "C:\\Users\\Nithish.s\\AppData\\Local\\Temp\\ipykernel_16720\\224034625.py:1: RuntimeWarning: divide by zero encountered in divide\n",
      "  np.fromfunction(lambda i,j:i/j,(3,3))\n",
      "C:\\Users\\Nithish.s\\AppData\\Local\\Temp\\ipykernel_16720\\224034625.py:1: RuntimeWarning: invalid value encountered in divide\n",
      "  np.fromfunction(lambda i,j:i/j,(3,3))\n"
     ]
    },
    {
     "data": {
      "text/plain": [
       "array([[nan, 0. , 0. ],\n",
       "       [inf, 1. , 0.5],\n",
       "       [inf, 2. , 1. ]])"
      ]
     },
     "execution_count": 58,
     "metadata": {},
     "output_type": "execute_result"
    }
   ],
   "source": [
    "np.fromfunction(lambda i,j:i/j,(3,3))"
   ]
  },
  {
   "cell_type": "markdown",
   "id": "01ef04fa",
   "metadata": {},
   "source": [
    "np.fromiter"
   ]
  },
  {
   "cell_type": "code",
   "execution_count": 61,
   "id": "048c208d",
   "metadata": {},
   "outputs": [
    {
     "data": {
      "text/plain": [
       "<generator object <genexpr> at 0x000001D10493B2A0>"
      ]
     },
     "execution_count": 61,
     "metadata": {},
     "output_type": "execute_result"
    }
   ],
   "source": [
    "gen = (i*i for i in range(5)) \n",
    "gen # An ,iterable object is created"
   ]
  },
  {
   "cell_type": "code",
   "execution_count": 62,
   "id": "db2173bf",
   "metadata": {},
   "outputs": [
    {
     "data": {
      "text/plain": [
       "array([ 0,  1,  4,  9, 16])"
      ]
     },
     "execution_count": 62,
     "metadata": {},
     "output_type": "execute_result"
    }
   ],
   "source": [
    "np.fromiter(gen,dtype=int) # The np.fromiter creates an array from the object "
   ]
  },
  {
   "cell_type": "code",
   "execution_count": 63,
   "id": "e79c1533",
   "metadata": {},
   "outputs": [],
   "source": [
    "# re-excute the gen line above to run this\n",
    "for i in gen:\n",
    "    print(i)"
   ]
  },
  {
   "cell_type": "markdown",
   "id": "e0511cbf",
   "metadata": {},
   "source": [
    "np.fromstring"
   ]
  },
  {
   "cell_type": "code",
   "execution_count": 64,
   "id": "6cf0354a",
   "metadata": {},
   "outputs": [
    {
     "data": {
      "text/plain": [
       "array([1, 4, 4, 6, 6, 7, 6])"
      ]
     },
     "execution_count": 64,
     "metadata": {},
     "output_type": "execute_result"
    }
   ],
   "source": [
    "np.fromstring('1,4,4,6,6,7,6',sep=\",\",dtype=int)"
   ]
  },
  {
   "cell_type": "code",
   "execution_count": 65,
   "id": "3cc39a49",
   "metadata": {},
   "outputs": [
    {
     "data": {
      "text/plain": [
       "array([1.+0.j, 4.+0.j, 4.+0.j, 6.+0.j, 6.+0.j, 7.+0.j, 6.+0.j])"
      ]
     },
     "execution_count": 65,
     "metadata": {},
     "output_type": "execute_result"
    }
   ],
   "source": [
    "np.fromstring('1 4 4 6 6 7 6',sep=\" \",dtype=complex)"
   ]
  },
  {
   "cell_type": "markdown",
   "id": "3b01adca",
   "metadata": {},
   "source": [
    "other arrays that can be generated with in-built feauters of NumPy"
   ]
  },
  {
   "cell_type": "code",
   "execution_count": 66,
   "id": "3843385f",
   "metadata": {},
   "outputs": [
    {
     "data": {
      "text/plain": [
       "array([0., 0., 0., 0., 0.])"
      ]
     },
     "execution_count": 66,
     "metadata": {},
     "output_type": "execute_result"
    }
   ],
   "source": [
    "np.zeros(5)"
   ]
  },
  {
   "cell_type": "code",
   "execution_count": 67,
   "id": "b453505d",
   "metadata": {},
   "outputs": [
    {
     "data": {
      "text/plain": [
       "array([[0., 0.],\n",
       "       [0., 0.]])"
      ]
     },
     "execution_count": 67,
     "metadata": {},
     "output_type": "execute_result"
    }
   ],
   "source": [
    "np.zeros((2,2))"
   ]
  },
  {
   "cell_type": "code",
   "execution_count": 68,
   "id": "6f367625",
   "metadata": {},
   "outputs": [
    {
     "data": {
      "text/plain": [
       "array([[[0., 0., 0.],\n",
       "        [0., 0., 0.],\n",
       "        [0., 0., 0.],\n",
       "        [0., 0., 0.]],\n",
       "\n",
       "       [[0., 0., 0.],\n",
       "        [0., 0., 0.],\n",
       "        [0., 0., 0.],\n",
       "        [0., 0., 0.]],\n",
       "\n",
       "       [[0., 0., 0.],\n",
       "        [0., 0., 0.],\n",
       "        [0., 0., 0.],\n",
       "        [0., 0., 0.]]])"
      ]
     },
     "execution_count": 68,
     "metadata": {},
     "output_type": "execute_result"
    }
   ],
   "source": [
    "np.zeros((3,4,3)) # 3  - 4 rows and 3 columns"
   ]
  },
  {
   "cell_type": "code",
   "execution_count": 69,
   "id": "f0b415d2",
   "metadata": {},
   "outputs": [
    {
     "data": {
      "text/plain": [
       "array([1., 1.])"
      ]
     },
     "execution_count": 69,
     "metadata": {},
     "output_type": "execute_result"
    }
   ],
   "source": [
    "np.ones(2)"
   ]
  },
  {
   "cell_type": "code",
   "execution_count": 70,
   "id": "d5e5803f",
   "metadata": {},
   "outputs": [
    {
     "data": {
      "text/plain": [
       "array([[1., 1., 1., 1., 1., 1.],\n",
       "       [1., 1., 1., 1., 1., 1.],\n",
       "       [1., 1., 1., 1., 1., 1.],\n",
       "       [1., 1., 1., 1., 1., 1.],\n",
       "       [1., 1., 1., 1., 1., 1.]])"
      ]
     },
     "execution_count": 70,
     "metadata": {},
     "output_type": "execute_result"
    }
   ],
   "source": [
    "np.ones((5,6))"
   ]
  },
  {
   "cell_type": "code",
   "execution_count": 71,
   "id": "8004543f",
   "metadata": {},
   "outputs": [
    {
     "data": {
      "text/plain": [
       "array([[[1., 1., 1., 1., 1., 1.],\n",
       "        [1., 1., 1., 1., 1., 1.],\n",
       "        [1., 1., 1., 1., 1., 1.],\n",
       "        [1., 1., 1., 1., 1., 1.],\n",
       "        [1., 1., 1., 1., 1., 1.]],\n",
       "\n",
       "       [[1., 1., 1., 1., 1., 1.],\n",
       "        [1., 1., 1., 1., 1., 1.],\n",
       "        [1., 1., 1., 1., 1., 1.],\n",
       "        [1., 1., 1., 1., 1., 1.],\n",
       "        [1., 1., 1., 1., 1., 1.]]])"
      ]
     },
     "execution_count": 71,
     "metadata": {},
     "output_type": "execute_result"
    }
   ],
   "source": [
    "np.ones((2,5,6))"
   ]
  },
  {
   "cell_type": "code",
   "execution_count": 72,
   "id": "fdef4218",
   "metadata": {},
   "outputs": [
    {
     "data": {
      "text/plain": [
       "array([nan,  0.,  0.,  0.,  0.,  0.,  0.,  0.,  0.,  0.])"
      ]
     },
     "execution_count": 72,
     "metadata": {},
     "output_type": "execute_result"
    }
   ],
   "source": [
    "np.empty(10) # this generates random data"
   ]
  },
  {
   "cell_type": "code",
   "execution_count": 73,
   "id": "58081e96",
   "metadata": {},
   "outputs": [
    {
     "data": {
      "text/plain": [
       "array([[[0.04761905, 0.09090909],\n",
       "        [0.13043478, 0.16666667],\n",
       "        [0.2       , 0.23076923]],\n",
       "\n",
       "       [[0.25925926, 0.28571429],\n",
       "        [0.31034483, 0.33333333],\n",
       "        [0.35483871, 0.375     ]]])"
      ]
     },
     "execution_count": 73,
     "metadata": {},
     "output_type": "execute_result"
    }
   ],
   "source": [
    "np.empty((2,3,2))"
   ]
  },
  {
   "cell_type": "code",
   "execution_count": 74,
   "id": "9f158c09",
   "metadata": {},
   "outputs": [
    {
     "data": {
      "text/plain": [
       "array([[0. , 0. , 1. ],\n",
       "       [0.5, 2. , 1. ]])"
      ]
     },
     "execution_count": 74,
     "metadata": {},
     "output_type": "execute_result"
    }
   ],
   "source": [
    "np.empty((2,3))"
   ]
  },
  {
   "cell_type": "code",
   "execution_count": 75,
   "id": "9fe95499",
   "metadata": {},
   "outputs": [
    {
     "data": {
      "text/plain": [
       "array([[1., 0., 0., 0., 0.],\n",
       "       [0., 1., 0., 0., 0.],\n",
       "       [0., 0., 1., 0., 0.],\n",
       "       [0., 0., 0., 1., 0.],\n",
       "       [0., 0., 0., 0., 1.]])"
      ]
     },
     "execution_count": 75,
     "metadata": {},
     "output_type": "execute_result"
    }
   ],
   "source": [
    "np.eye(5)"
   ]
  },
  {
   "cell_type": "code",
   "execution_count": 76,
   "id": "62d025c4",
   "metadata": {},
   "outputs": [
    {
     "data": {
      "text/plain": [
       "array([[1., 0., 0., 0., 0.],\n",
       "       [0., 1., 0., 0., 0.]])"
      ]
     },
     "execution_count": 76,
     "metadata": {},
     "output_type": "execute_result"
    }
   ],
   "source": [
    "np.eye(2,5)"
   ]
  },
  {
   "cell_type": "code",
   "execution_count": 77,
   "id": "2f6ff5c5",
   "metadata": {},
   "outputs": [
    {
     "data": {
      "text/plain": [
       "array([2. , 2.5, 3. , 3.5, 4. ])"
      ]
     },
     "execution_count": 77,
     "metadata": {},
     "output_type": "execute_result"
    }
   ],
   "source": [
    "# Additional, exercises with linspace\n",
    "np.linspace(2,4,5)"
   ]
  },
  {
   "cell_type": "code",
   "execution_count": 78,
   "id": "a047f2a9",
   "metadata": {},
   "outputs": [
    {
     "data": {
      "text/plain": [
       "array([2. , 2.4, 2.8, 3.2, 3.6])"
      ]
     },
     "execution_count": 78,
     "metadata": {},
     "output_type": "execute_result"
    }
   ],
   "source": [
    "np.linspace(2,4,5,endpoint=False) # this eliminates the upper bound"
   ]
  },
  {
   "cell_type": "code",
   "execution_count": 79,
   "id": "0fede6af",
   "metadata": {},
   "outputs": [
    {
     "data": {
      "text/plain": [
       "array([[1.  , 5.  ],\n",
       "       [1.06, 4.98],\n",
       "       [1.12, 4.96],\n",
       "       [1.18, 4.94],\n",
       "       [1.24, 4.92],\n",
       "       [1.3 , 4.9 ],\n",
       "       [1.36, 4.88],\n",
       "       [1.42, 4.86],\n",
       "       [1.48, 4.84],\n",
       "       [1.54, 4.82],\n",
       "       [1.6 , 4.8 ],\n",
       "       [1.66, 4.78],\n",
       "       [1.72, 4.76],\n",
       "       [1.78, 4.74],\n",
       "       [1.84, 4.72],\n",
       "       [1.9 , 4.7 ],\n",
       "       [1.96, 4.68],\n",
       "       [2.02, 4.66],\n",
       "       [2.08, 4.64],\n",
       "       [2.14, 4.62],\n",
       "       [2.2 , 4.6 ],\n",
       "       [2.26, 4.58],\n",
       "       [2.32, 4.56],\n",
       "       [2.38, 4.54],\n",
       "       [2.44, 4.52],\n",
       "       [2.5 , 4.5 ],\n",
       "       [2.56, 4.48],\n",
       "       [2.62, 4.46],\n",
       "       [2.68, 4.44],\n",
       "       [2.74, 4.42],\n",
       "       [2.8 , 4.4 ],\n",
       "       [2.86, 4.38],\n",
       "       [2.92, 4.36],\n",
       "       [2.98, 4.34],\n",
       "       [3.04, 4.32],\n",
       "       [3.1 , 4.3 ],\n",
       "       [3.16, 4.28],\n",
       "       [3.22, 4.26],\n",
       "       [3.28, 4.24],\n",
       "       [3.34, 4.22],\n",
       "       [3.4 , 4.2 ],\n",
       "       [3.46, 4.18],\n",
       "       [3.52, 4.16],\n",
       "       [3.58, 4.14],\n",
       "       [3.64, 4.12],\n",
       "       [3.7 , 4.1 ],\n",
       "       [3.76, 4.08],\n",
       "       [3.82, 4.06],\n",
       "       [3.88, 4.04],\n",
       "       [3.94, 4.02]])"
      ]
     },
     "execution_count": 79,
     "metadata": {},
     "output_type": "execute_result"
    }
   ],
   "source": [
    "np.linspace([1,5],4,endpoint=False)"
   ]
  },
  {
   "cell_type": "code",
   "execution_count": 80,
   "id": "9159c701",
   "metadata": {},
   "outputs": [
    {
     "data": {
      "text/plain": [
       "array([[1.  , 1.06, 1.12, 1.18, 1.24, 1.3 , 1.36, 1.42, 1.48, 1.54, 1.6 ,\n",
       "        1.66, 1.72, 1.78, 1.84, 1.9 , 1.96, 2.02, 2.08, 2.14, 2.2 , 2.26,\n",
       "        2.32, 2.38, 2.44, 2.5 , 2.56, 2.62, 2.68, 2.74, 2.8 , 2.86, 2.92,\n",
       "        2.98, 3.04, 3.1 , 3.16, 3.22, 3.28, 3.34, 3.4 , 3.46, 3.52, 3.58,\n",
       "        3.64, 3.7 , 3.76, 3.82, 3.88, 3.94],\n",
       "       [5.  , 4.98, 4.96, 4.94, 4.92, 4.9 , 4.88, 4.86, 4.84, 4.82, 4.8 ,\n",
       "        4.78, 4.76, 4.74, 4.72, 4.7 , 4.68, 4.66, 4.64, 4.62, 4.6 , 4.58,\n",
       "        4.56, 4.54, 4.52, 4.5 , 4.48, 4.46, 4.44, 4.42, 4.4 , 4.38, 4.36,\n",
       "        4.34, 4.32, 4.3 , 4.28, 4.26, 4.24, 4.22, 4.2 , 4.18, 4.16, 4.14,\n",
       "        4.12, 4.1 , 4.08, 4.06, 4.04, 4.02]])"
      ]
     },
     "execution_count": 80,
     "metadata": {},
     "output_type": "execute_result"
    }
   ],
   "source": [
    "np.linspace([1,5],4,endpoint=False,axis=1)"
   ]
  },
  {
   "cell_type": "code",
   "execution_count": 81,
   "id": "922f687d",
   "metadata": {},
   "outputs": [
    {
     "data": {
      "text/plain": [
       "array([1.e+01, 1.e+02, 1.e+03, 1.e+04, 1.e+05])"
      ]
     },
     "execution_count": 81,
     "metadata": {},
     "output_type": "execute_result"
    }
   ],
   "source": [
    "# Return number evenly on a log scale\n",
    "np.logspace(1,5,5)"
   ]
  },
  {
   "cell_type": "code",
   "execution_count": 82,
   "id": "5f85b0aa",
   "metadata": {},
   "outputs": [
    {
     "data": {
      "text/plain": [
       "array([[1.00000000e+01, 1.00000000e+05],\n",
       "       [1.20679264e+01, 1.00000000e+05],\n",
       "       [1.45634848e+01, 1.00000000e+05],\n",
       "       [1.75751062e+01, 1.00000000e+05],\n",
       "       [2.12095089e+01, 1.00000000e+05],\n",
       "       [2.55954792e+01, 1.00000000e+05],\n",
       "       [3.08884360e+01, 1.00000000e+05],\n",
       "       [3.72759372e+01, 1.00000000e+05],\n",
       "       [4.49843267e+01, 1.00000000e+05],\n",
       "       [5.42867544e+01, 1.00000000e+05],\n",
       "       [6.55128557e+01, 1.00000000e+05],\n",
       "       [7.90604321e+01, 1.00000000e+05],\n",
       "       [9.54095476e+01, 1.00000000e+05],\n",
       "       [1.15139540e+02, 1.00000000e+05],\n",
       "       [1.38949549e+02, 1.00000000e+05],\n",
       "       [1.67683294e+02, 1.00000000e+05],\n",
       "       [2.02358965e+02, 1.00000000e+05],\n",
       "       [2.44205309e+02, 1.00000000e+05],\n",
       "       [2.94705170e+02, 1.00000000e+05],\n",
       "       [3.55648031e+02, 1.00000000e+05],\n",
       "       [4.29193426e+02, 1.00000000e+05],\n",
       "       [5.17947468e+02, 1.00000000e+05],\n",
       "       [6.25055193e+02, 1.00000000e+05],\n",
       "       [7.54312006e+02, 1.00000000e+05],\n",
       "       [9.10298178e+02, 1.00000000e+05],\n",
       "       [1.09854114e+03, 1.00000000e+05],\n",
       "       [1.32571137e+03, 1.00000000e+05],\n",
       "       [1.59985872e+03, 1.00000000e+05],\n",
       "       [1.93069773e+03, 1.00000000e+05],\n",
       "       [2.32995181e+03, 1.00000000e+05],\n",
       "       [2.81176870e+03, 1.00000000e+05],\n",
       "       [3.39322177e+03, 1.00000000e+05],\n",
       "       [4.09491506e+03, 1.00000000e+05],\n",
       "       [4.94171336e+03, 1.00000000e+05],\n",
       "       [5.96362332e+03, 1.00000000e+05],\n",
       "       [7.19685673e+03, 1.00000000e+05],\n",
       "       [8.68511374e+03, 1.00000000e+05],\n",
       "       [1.04811313e+04, 1.00000000e+05],\n",
       "       [1.26485522e+04, 1.00000000e+05],\n",
       "       [1.52641797e+04, 1.00000000e+05],\n",
       "       [1.84206997e+04, 1.00000000e+05],\n",
       "       [2.22299648e+04, 1.00000000e+05],\n",
       "       [2.68269580e+04, 1.00000000e+05],\n",
       "       [3.23745754e+04, 1.00000000e+05],\n",
       "       [3.90693994e+04, 1.00000000e+05],\n",
       "       [4.71486636e+04, 1.00000000e+05],\n",
       "       [5.68986603e+04, 1.00000000e+05],\n",
       "       [6.86648845e+04, 1.00000000e+05],\n",
       "       [8.28642773e+04, 1.00000000e+05],\n",
       "       [1.00000000e+05, 1.00000000e+05]])"
      ]
     },
     "execution_count": 82,
     "metadata": {},
     "output_type": "execute_result"
    }
   ],
   "source": [
    "np.logspace([1,5],5)"
   ]
  },
  {
   "cell_type": "code",
   "execution_count": 83,
   "id": "22082ad8",
   "metadata": {},
   "outputs": [
    {
     "data": {
      "text/plain": [
       "array([[1.00000000e+01, 1.20679264e+01, 1.45634848e+01, 1.75751062e+01,\n",
       "        2.12095089e+01, 2.55954792e+01, 3.08884360e+01, 3.72759372e+01,\n",
       "        4.49843267e+01, 5.42867544e+01, 6.55128557e+01, 7.90604321e+01,\n",
       "        9.54095476e+01, 1.15139540e+02, 1.38949549e+02, 1.67683294e+02,\n",
       "        2.02358965e+02, 2.44205309e+02, 2.94705170e+02, 3.55648031e+02,\n",
       "        4.29193426e+02, 5.17947468e+02, 6.25055193e+02, 7.54312006e+02,\n",
       "        9.10298178e+02, 1.09854114e+03, 1.32571137e+03, 1.59985872e+03,\n",
       "        1.93069773e+03, 2.32995181e+03, 2.81176870e+03, 3.39322177e+03,\n",
       "        4.09491506e+03, 4.94171336e+03, 5.96362332e+03, 7.19685673e+03,\n",
       "        8.68511374e+03, 1.04811313e+04, 1.26485522e+04, 1.52641797e+04,\n",
       "        1.84206997e+04, 2.22299648e+04, 2.68269580e+04, 3.23745754e+04,\n",
       "        3.90693994e+04, 4.71486636e+04, 5.68986603e+04, 6.86648845e+04,\n",
       "        8.28642773e+04, 1.00000000e+05],\n",
       "       [1.00000000e+05, 1.00000000e+05, 1.00000000e+05, 1.00000000e+05,\n",
       "        1.00000000e+05, 1.00000000e+05, 1.00000000e+05, 1.00000000e+05,\n",
       "        1.00000000e+05, 1.00000000e+05, 1.00000000e+05, 1.00000000e+05,\n",
       "        1.00000000e+05, 1.00000000e+05, 1.00000000e+05, 1.00000000e+05,\n",
       "        1.00000000e+05, 1.00000000e+05, 1.00000000e+05, 1.00000000e+05,\n",
       "        1.00000000e+05, 1.00000000e+05, 1.00000000e+05, 1.00000000e+05,\n",
       "        1.00000000e+05, 1.00000000e+05, 1.00000000e+05, 1.00000000e+05,\n",
       "        1.00000000e+05, 1.00000000e+05, 1.00000000e+05, 1.00000000e+05,\n",
       "        1.00000000e+05, 1.00000000e+05, 1.00000000e+05, 1.00000000e+05,\n",
       "        1.00000000e+05, 1.00000000e+05, 1.00000000e+05, 1.00000000e+05,\n",
       "        1.00000000e+05, 1.00000000e+05, 1.00000000e+05, 1.00000000e+05,\n",
       "        1.00000000e+05, 1.00000000e+05, 1.00000000e+05, 1.00000000e+05,\n",
       "        1.00000000e+05, 1.00000000e+05]])"
      ]
     },
     "execution_count": 83,
     "metadata": {},
     "output_type": "execute_result"
    }
   ],
   "source": [
    "log_arr = np.logspace([1,5],5,axis=1)\n",
    "log_arr"
   ]
  },
  {
   "cell_type": "code",
   "execution_count": 84,
   "id": "30e38a69",
   "metadata": {},
   "outputs": [
    {
     "data": {
      "text/plain": [
       "(2, 50)"
      ]
     },
     "execution_count": 84,
     "metadata": {},
     "output_type": "execute_result"
    }
   ],
   "source": [
    "log_arr.shape"
   ]
  },
  {
   "cell_type": "code",
   "execution_count": 85,
   "id": "89ef7223",
   "metadata": {},
   "outputs": [
    {
     "data": {
      "text/plain": [
       "array([[[1.00000000e+01, 1.20679264e+01, 1.45634848e+01, 1.75751062e+01,\n",
       "         2.12095089e+01, 2.55954792e+01, 3.08884360e+01, 3.72759372e+01,\n",
       "         4.49843267e+01, 5.42867544e+01, 6.55128557e+01, 7.90604321e+01,\n",
       "         9.54095476e+01, 1.15139540e+02, 1.38949549e+02, 1.67683294e+02,\n",
       "         2.02358965e+02, 2.44205309e+02, 2.94705170e+02, 3.55648031e+02,\n",
       "         4.29193426e+02, 5.17947468e+02, 6.25055193e+02, 7.54312006e+02,\n",
       "         9.10298178e+02, 1.09854114e+03, 1.32571137e+03, 1.59985872e+03,\n",
       "         1.93069773e+03, 2.32995181e+03, 2.81176870e+03, 3.39322177e+03,\n",
       "         4.09491506e+03, 4.94171336e+03, 5.96362332e+03, 7.19685673e+03,\n",
       "         8.68511374e+03, 1.04811313e+04, 1.26485522e+04, 1.52641797e+04,\n",
       "         1.84206997e+04, 2.22299648e+04, 2.68269580e+04, 3.23745754e+04,\n",
       "         3.90693994e+04, 4.71486636e+04, 5.68986603e+04, 6.86648845e+04,\n",
       "         8.28642773e+04, 1.00000000e+05],\n",
       "        [1.00000000e+05, 1.00000000e+05, 1.00000000e+05, 1.00000000e+05,\n",
       "         1.00000000e+05, 1.00000000e+05, 1.00000000e+05, 1.00000000e+05,\n",
       "         1.00000000e+05, 1.00000000e+05, 1.00000000e+05, 1.00000000e+05,\n",
       "         1.00000000e+05, 1.00000000e+05, 1.00000000e+05, 1.00000000e+05,\n",
       "         1.00000000e+05, 1.00000000e+05, 1.00000000e+05, 1.00000000e+05,\n",
       "         1.00000000e+05, 1.00000000e+05, 1.00000000e+05, 1.00000000e+05,\n",
       "         1.00000000e+05, 1.00000000e+05, 1.00000000e+05, 1.00000000e+05,\n",
       "         1.00000000e+05, 1.00000000e+05, 1.00000000e+05, 1.00000000e+05,\n",
       "         1.00000000e+05, 1.00000000e+05, 1.00000000e+05, 1.00000000e+05,\n",
       "         1.00000000e+05, 1.00000000e+05, 1.00000000e+05, 1.00000000e+05,\n",
       "         1.00000000e+05, 1.00000000e+05, 1.00000000e+05, 1.00000000e+05,\n",
       "         1.00000000e+05, 1.00000000e+05, 1.00000000e+05, 1.00000000e+05,\n",
       "         1.00000000e+05, 1.00000000e+05]]])"
      ]
     },
     "execution_count": 85,
     "metadata": {},
     "output_type": "execute_result"
    }
   ],
   "source": [
    "log_arr.reshape(1,2,50) # 1 row - 2 columns with 50 data points in each column"
   ]
  },
  {
   "cell_type": "code",
   "execution_count": 86,
   "id": "e61b612d",
   "metadata": {},
   "outputs": [
    {
     "data": {
      "text/plain": [
       "array([ 1,  2,  3,  4, 10])"
      ]
     },
     "execution_count": 86,
     "metadata": {},
     "output_type": "execute_result"
    }
   ],
   "source": [
    "arr"
   ]
  },
  {
   "cell_type": "code",
   "execution_count": 87,
   "id": "052d2c40",
   "metadata": {},
   "outputs": [
    {
     "data": {
      "text/plain": [
       "matrix([[1, 2, 3],\n",
       "        [4, 5, 6],\n",
       "        [7, 8, 9]])"
      ]
     },
     "execution_count": 87,
     "metadata": {},
     "output_type": "execute_result"
    }
   ],
   "source": [
    "mat"
   ]
  },
  {
   "cell_type": "code",
   "execution_count": 88,
   "id": "abccfdf4",
   "metadata": {},
   "outputs": [
    {
     "data": {
      "text/plain": [
       "matrix([[1, 4, 7],\n",
       "        [2, 5, 8],\n",
       "        [3, 6, 9]])"
      ]
     },
     "execution_count": 88,
     "metadata": {},
     "output_type": "execute_result"
    }
   ],
   "source": [
    "mat.T"
   ]
  },
  {
   "cell_type": "code",
   "execution_count": 89,
   "id": "bc33b6b9",
   "metadata": {},
   "outputs": [
    {
     "data": {
      "text/plain": [
       "array([[1, 2, 3],\n",
       "       [4, 5, 6],\n",
       "       [7, 8, 9]])"
      ]
     },
     "execution_count": 89,
     "metadata": {},
     "output_type": "execute_result"
    }
   ],
   "source": [
    "arr2"
   ]
  },
  {
   "cell_type": "code",
   "execution_count": 90,
   "id": "3a448cc8",
   "metadata": {},
   "outputs": [
    {
     "data": {
      "text/plain": [
       "array([[1, 4, 7],\n",
       "       [2, 5, 8],\n",
       "       [3, 6, 9]])"
      ]
     },
     "execution_count": 90,
     "metadata": {},
     "output_type": "execute_result"
    }
   ],
   "source": [
    "arr2.T"
   ]
  },
  {
   "cell_type": "code",
   "execution_count": 91,
   "id": "a33257d6",
   "metadata": {},
   "outputs": [
    {
     "data": {
      "text/plain": [
       "array([[ 1],\n",
       "       [ 2],\n",
       "       [ 3],\n",
       "       [ 4],\n",
       "       [10]])"
      ]
     },
     "execution_count": 91,
     "metadata": {},
     "output_type": "execute_result"
    }
   ],
   "source": [
    "# 1d Transpose\n",
    "arr.reshape(5,1)"
   ]
  },
  {
   "cell_type": "markdown",
   "id": "a81ed83c",
   "metadata": {},
   "source": [
    "### Swapping"
   ]
  },
  {
   "cell_type": "code",
   "execution_count": 92,
   "id": "00e2fb55",
   "metadata": {},
   "outputs": [
    {
     "data": {
      "text/plain": [
       "array([[1, 2, 3],\n",
       "       [4, 5, 6],\n",
       "       [7, 8, 9]])"
      ]
     },
     "execution_count": 92,
     "metadata": {},
     "output_type": "execute_result"
    }
   ],
   "source": [
    "arr2"
   ]
  },
  {
   "cell_type": "code",
   "execution_count": 93,
   "id": "72f38f66",
   "metadata": {},
   "outputs": [],
   "source": [
    "arr2[:,[0,2]] = arr2[:,[2,0]]"
   ]
  },
  {
   "cell_type": "code",
   "execution_count": 94,
   "id": "13056657",
   "metadata": {},
   "outputs": [
    {
     "data": {
      "text/plain": [
       "array([[3, 2, 1],\n",
       "       [6, 5, 4],\n",
       "       [9, 8, 7]])"
      ]
     },
     "execution_count": 94,
     "metadata": {},
     "output_type": "execute_result"
    }
   ],
   "source": [
    "arr2"
   ]
  }
 ],
 "metadata": {
  "kernelspec": {
   "display_name": "Python 3 (ipykernel)",
   "language": "python",
   "name": "python3"
  },
  "language_info": {
   "codemirror_mode": {
    "name": "ipython",
    "version": 3
   },
   "file_extension": ".py",
   "mimetype": "text/x-python",
   "name": "python",
   "nbconvert_exporter": "python",
   "pygments_lexer": "ipython3",
   "version": "3.11.4"
  }
 },
 "nbformat": 4,
 "nbformat_minor": 5
}
