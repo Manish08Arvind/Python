{
 "cells": [
  {
   "cell_type": "markdown",
   "id": "65cd1054",
   "metadata": {},
   "source": [
    "# Inheritance"
   ]
  },
  {
   "cell_type": "markdown",
   "id": "9c93cd6f",
   "metadata": {},
   "source": [
    "Inheritance helps us to create hierarchy if class that share set of properties and methods by deriving a class from another class."
   ]
  },
  {
   "cell_type": "markdown",
   "id": "cf575f77",
   "metadata": {},
   "source": [
    " ### Single level Inheritance"
   ]
  },
  {
   "cell_type": "code",
   "execution_count": 1,
   "id": "534e4ac0",
   "metadata": {},
   "outputs": [],
   "source": [
    "class A:\n",
    "    \n",
    "    def feature1(self):\n",
    "        print('Feature 1')\n",
    "        \n",
    "    def feature2(self):\n",
    "        print('Feature 2')\n",
    "        \n",
    "class B(A):\n",
    "    \n",
    "    def feature3(self):\n",
    "        print('Feature 3')\n",
    "        \n",
    "    def feature4(self):\n",
    "        print('Feature 4')"
   ]
  },
  {
   "cell_type": "code",
   "execution_count": 2,
   "id": "24207241",
   "metadata": {},
   "outputs": [
    {
     "name": "stdout",
     "output_type": "stream",
     "text": [
      "Feature 1\n",
      "Feature 2\n"
     ]
    }
   ],
   "source": [
    "output = A()\n",
    "output.feature1()\n",
    "output.feature2()"
   ]
  },
  {
   "cell_type": "code",
   "execution_count": 3,
   "id": "bf63a6de",
   "metadata": {},
   "outputs": [
    {
     "name": "stdout",
     "output_type": "stream",
     "text": [
      "Feature 1\n",
      "Feature 2\n",
      "Feature 3\n",
      "Feature 4\n"
     ]
    }
   ],
   "source": [
    "output = B()\n",
    "output.feature1()\n",
    "output.feature2()\n",
    "output.feature3()\n",
    "output.feature4()"
   ]
  },
  {
   "cell_type": "markdown",
   "id": "b76ef878",
   "metadata": {},
   "source": [
    "### Multi level Inheritance"
   ]
  },
  {
   "cell_type": "code",
   "execution_count": 4,
   "id": "5b10eb7f",
   "metadata": {},
   "outputs": [],
   "source": [
    "class C(B):\n",
    "    \n",
    "    def feature5(self):\n",
    "        print('Feature 5')\n",
    "        \n",
    "    def feature6(self):\n",
    "        print('Feature 6')"
   ]
  },
  {
   "cell_type": "code",
   "execution_count": 5,
   "id": "ea398a3f",
   "metadata": {},
   "outputs": [
    {
     "name": "stdout",
     "output_type": "stream",
     "text": [
      "Feature 1\n",
      "Feature 2\n",
      "Feature 3\n",
      "Feature 4\n",
      "Feature 5\n",
      "Feature 6\n"
     ]
    }
   ],
   "source": [
    "output = C()\n",
    "output.feature1()\n",
    "output.feature2()\n",
    "output.feature3()\n",
    "output.feature4()\n",
    "output.feature5()\n",
    "output.feature6()"
   ]
  },
  {
   "cell_type": "markdown",
   "id": "69eaec69",
   "metadata": {},
   "source": [
    "## Multiple Inheritance"
   ]
  },
  {
   "cell_type": "code",
   "execution_count": 6,
   "id": "b90e6b3e",
   "metadata": {},
   "outputs": [],
   "source": [
    "class A:\n",
    "    \n",
    "    def feature1(self):\n",
    "        print('Feature 1')\n",
    "        \n",
    "    def feature2(self):\n",
    "        print('Feature 2')\n",
    "        \n",
    "class B:\n",
    "    \n",
    "    def feature3(self):\n",
    "        print('Feature 3')\n",
    "        \n",
    "    def feature4(self):\n",
    "        print('Feature 4')\n",
    "\n",
    "class C(A,B):\n",
    "    \n",
    "    def feature5(self):\n",
    "        print('Feature 5')\n",
    "        \n",
    "    def feature6(self):\n",
    "        print('Feature 6')"
   ]
  },
  {
   "cell_type": "code",
   "execution_count": 7,
   "id": "51548e76",
   "metadata": {},
   "outputs": [
    {
     "name": "stdout",
     "output_type": "stream",
     "text": [
      "Feature 3\n",
      "Feature 4\n"
     ]
    }
   ],
   "source": [
    "output = B()\n",
    "\n",
    "output.feature3()\n",
    "output.feature4()"
   ]
  },
  {
   "cell_type": "code",
   "execution_count": 8,
   "id": "5d9dbfa4",
   "metadata": {},
   "outputs": [
    {
     "name": "stdout",
     "output_type": "stream",
     "text": [
      "Feature 1\n",
      "Feature 2\n",
      "Feature 3\n",
      "Feature 4\n",
      "Feature 5\n",
      "Feature 6\n"
     ]
    }
   ],
   "source": [
    "output = C()\n",
    "output.feature1()\n",
    "output.feature2()\n",
    "output.feature3()\n",
    "output.feature4()\n",
    "output.feature5()\n",
    "output.feature6()"
   ]
  },
  {
   "cell_type": "markdown",
   "id": "bbd25da8",
   "metadata": {},
   "source": [
    "## Constructor in Inheritance"
   ]
  },
  {
   "cell_type": "markdown",
   "id": "2ed1d401",
   "metadata": {},
   "source": [
    "### Creating a constructor in A and checking if B calls it"
   ]
  },
  {
   "cell_type": "code",
   "execution_count": 9,
   "id": "46c61de5",
   "metadata": {},
   "outputs": [],
   "source": [
    " class A:\n",
    "    \n",
    "    def __init__(self):\n",
    "        print('init of A')\n",
    "    \n",
    "    def feature1(self):\n",
    "        print('Feature 1')\n",
    "        \n",
    "    def feature2(self):\n",
    "        print('Feature 2')\n",
    "        \n",
    "class B(A):\n",
    "    \n",
    "    def feature3(self):\n",
    "        print('Feature 3')\n",
    "        \n",
    "    def feature4(self):\n",
    "        print('Feature 4')"
   ]
  },
  {
   "cell_type": "code",
   "execution_count": 10,
   "id": "f60425e8",
   "metadata": {},
   "outputs": [
    {
     "name": "stdout",
     "output_type": "stream",
     "text": [
      "init of A\n",
      "<__main__.A object at 0x00000196B2C19ED0>\n"
     ]
    }
   ],
   "source": [
    "a1 = A()\n",
    "print(a1)"
   ]
  },
  {
   "cell_type": "code",
   "execution_count": 11,
   "id": "1929335a",
   "metadata": {},
   "outputs": [
    {
     "name": "stdout",
     "output_type": "stream",
     "text": [
      "init of A\n",
      "<__main__.B object at 0x00000196B2D1C190>\n"
     ]
    }
   ],
   "source": [
    "b1 = B()\n",
    "print(b1)"
   ]
  },
  {
   "cell_type": "markdown",
   "id": "541a952b",
   "metadata": {},
   "source": [
    "### A has a constructor and now creating a constructor in B"
   ]
  },
  {
   "cell_type": "code",
   "execution_count": 12,
   "id": "488ef33d",
   "metadata": {},
   "outputs": [],
   "source": [
    " class A:\n",
    "    \n",
    "    def __init__(self):\n",
    "        print('init of A')\n",
    "    \n",
    "    def feature1(self):\n",
    "        print('Feature 1')\n",
    "        \n",
    "    def feature2(self):\n",
    "        print('Feature 2')\n",
    "        \n",
    "class B(A):\n",
    "    \n",
    "    def __init__(self):\n",
    "        print('init of B') \n",
    "        \n",
    "    def feature3(self):\n",
    "        print('Feature 3')\n",
    "        \n",
    "    def feature4(self):\n",
    "        print('Feature 4')"
   ]
  },
  {
   "cell_type": "code",
   "execution_count": 13,
   "id": "de9a01a4",
   "metadata": {},
   "outputs": [
    {
     "name": "stdout",
     "output_type": "stream",
     "text": [
      "init of A\n",
      "<__main__.A object at 0x00000196B2D1DD50>\n"
     ]
    }
   ],
   "source": [
    "a1 = A()\n",
    "print(a1)"
   ]
  },
  {
   "cell_type": "code",
   "execution_count": 14,
   "id": "11f4c164",
   "metadata": {},
   "outputs": [
    {
     "name": "stdout",
     "output_type": "stream",
     "text": [
      "init of B\n",
      "<__main__.B object at 0x00000196B2C8D150>\n"
     ]
    }
   ],
   "source": [
    "b1 = B() \n",
    "print(b1) # b1 calls for the __init__ in B"
   ]
  },
  {
   "cell_type": "markdown",
   "id": "76ab3847",
   "metadata": {},
   "source": [
    "### Calling __init__ of A from B when B does have it's own __init__"
   ]
  },
  {
   "cell_type": "code",
   "execution_count": 15,
   "id": "d551e48d",
   "metadata": {},
   "outputs": [],
   "source": [
    " class A:\n",
    "    \n",
    "    def __init__(self):\n",
    "        print('init of A')\n",
    "    \n",
    "    def feature1(self):\n",
    "        print('Feature 1')\n",
    "        \n",
    "    def feature2(self):\n",
    "        print('Feature 2')\n",
    "        \n",
    "class B(A):\n",
    "    \n",
    "    def __init__(self):\n",
    "        super().__init__()\n",
    "        print('init of B') \n",
    "        \n",
    "    def feature3(self):\n",
    "        print('Feature 3')\n",
    "        \n",
    "    def feature4(self):\n",
    "        print('Feature 4')"
   ]
  },
  {
   "cell_type": "code",
   "execution_count": 16,
   "id": "8b798941",
   "metadata": {},
   "outputs": [
    {
     "name": "stdout",
     "output_type": "stream",
     "text": [
      "init of A\n",
      "<__main__.A object at 0x00000196B2C86350>\n"
     ]
    }
   ],
   "source": [
    "a1 = A()\n",
    "print(a1)"
   ]
  },
  {
   "cell_type": "code",
   "execution_count": 17,
   "id": "1c28687b",
   "metadata": {},
   "outputs": [
    {
     "name": "stdout",
     "output_type": "stream",
     "text": [
      "init of A\n",
      "init of B\n",
      "<__main__.B object at 0x00000196B2D20A90>\n"
     ]
    }
   ],
   "source": [
    "b1 = B()\n",
    "print(b1) # This prints both the __init__"
   ]
  },
  {
   "cell_type": "markdown",
   "id": "02920b2a",
   "metadata": {},
   "source": [
    " ### Multiple Inheritance with constructors"
   ]
  },
  {
   "cell_type": "code",
   "execution_count": 18,
   "id": "91e2a098",
   "metadata": {},
   "outputs": [],
   "source": [
    " class A:\n",
    "    \n",
    "    def __init__(self):\n",
    "        print('init of A')\n",
    "    \n",
    "    def feature1(self):\n",
    "        print('Feature 1')\n",
    "        \n",
    "    def feature2(self):\n",
    "        print('Feature 2')\n",
    "        \n",
    "class B:\n",
    "    \n",
    "    def __init__(self):\n",
    "        super().__init__()\n",
    "        print('init of B') \n",
    "        \n",
    "    def feature3(self):\n",
    "        print('Feature 3')\n",
    "        \n",
    "    def feature4(self):\n",
    "        print('Feature 4')\n",
    "        \n",
    "        \n",
    "class C(A,B):\n",
    "    \n",
    "    def __init__(self):\n",
    "        super().__init__()\n",
    "        print('init of C') \n",
    "        \n",
    "    def feature5(self):\n",
    "        print('Feature 5')\n",
    "        \n",
    "    def feature6(self):\n",
    "        print('Feature 6')"
   ]
  },
  {
   "cell_type": "code",
   "execution_count": 19,
   "id": "9fe2d6a5",
   "metadata": {},
   "outputs": [
    {
     "name": "stdout",
     "output_type": "stream",
     "text": [
      "init of A\n",
      "init of C\n",
      "<__main__.C object at 0x00000196B2D1EAD0>\n"
     ]
    }
   ],
   "source": [
    "c1 = C()\n",
    "print(c1)"
   ]
  },
  {
   "cell_type": "markdown",
   "id": "e55da342",
   "metadata": {},
   "source": [
    "From the above output, we observe that init of A gets printed and B doesn't get printed"
   ]
  },
  {
   "cell_type": "markdown",
   "id": "0925a59a",
   "metadata": {},
   "source": [
    "This is because of MRO(Method Resolution Order) in which the __init__ search moves from left to right and fetches the first element from the left."
   ]
  },
  {
   "cell_type": "markdown",
   "id": "43b36b9c",
   "metadata": {},
   "source": [
    "__Method Resolution Order__"
   ]
  },
  {
   "cell_type": "markdown",
   "id": "8d974c06",
   "metadata": {},
   "source": [
    "Method resolution order defines the order in which the base classes are searched when executing a method."
   ]
  },
  {
   "cell_type": "code",
   "execution_count": 20,
   "id": "36fe1549",
   "metadata": {},
   "outputs": [],
   "source": [
    "# calling a method in multiple inheritance class\n",
    "\n",
    "class A:\n",
    "    \n",
    "    def __init__(self):\n",
    "        print('init of A')\n",
    "    \n",
    "    def feature1(self):\n",
    "        print('A:Feature 1')\n",
    "        \n",
    "    def feature2(self):\n",
    "        print('Feature 2')\n",
    "        \n",
    "class B:\n",
    "    \n",
    "    def __init__(self):\n",
    "        super().__init__()\n",
    "        print('init of B') \n",
    "        \n",
    "    def feature1(self):\n",
    "        print('B:Feature 1')\n",
    "        \n",
    "    def feature4(self):\n",
    "        print('Feature 4')\n",
    "        \n",
    "        \n",
    "class C(A,B):\n",
    "    \n",
    "    def __init__(self):\n",
    "        super().__init__()\n",
    "        print('init of C') \n",
    "        \n",
    "    def feature5(self):\n",
    "        print('Feature 5')\n",
    "        \n",
    "    def feature6(self):\n",
    "        print('Feature 6')\n",
    "        \n",
    "    def feat_super(self): # super method\n",
    "        super().feature1()\n",
    "            "
   ]
  },
  {
   "cell_type": "code",
   "execution_count": 21,
   "id": "7c0530c2",
   "metadata": {},
   "outputs": [
    {
     "name": "stdout",
     "output_type": "stream",
     "text": [
      "init of A\n",
      "init of C\n",
      "A:Feature 1\n"
     ]
    }
   ],
   "source": [
    "c1 = C()\n",
    "c1.feature1()"
   ]
  },
  {
   "cell_type": "code",
   "execution_count": 22,
   "id": "8ab09af1",
   "metadata": {},
   "outputs": [
    {
     "name": "stdout",
     "output_type": "stream",
     "text": [
      "A:Feature 1\n"
     ]
    }
   ],
   "source": [
    "c1.feat_super() # calling method using super"
   ]
  }
 ],
 "metadata": {
  "kernelspec": {
   "display_name": "Python 3 (ipykernel)",
   "language": "python",
   "name": "python3"
  },
  "language_info": {
   "codemirror_mode": {
    "name": "ipython",
    "version": 3
   },
   "file_extension": ".py",
   "mimetype": "text/x-python",
   "name": "python",
   "nbconvert_exporter": "python",
   "pygments_lexer": "ipython3",
   "version": "3.11.4"
  }
 },
 "nbformat": 4,
 "nbformat_minor": 5
}
