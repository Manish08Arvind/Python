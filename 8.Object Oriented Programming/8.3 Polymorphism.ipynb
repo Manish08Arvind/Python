{
 "cells": [
  {
   "cell_type": "markdown",
   "id": "decb0fdc",
   "metadata": {},
   "source": [
    "# Polymorphism"
   ]
  },
  {
   "cell_type": "markdown",
   "id": "373d3876",
   "metadata": {},
   "source": [
    "Polymorphism means having many forms. "
   ]
  },
  {
   "cell_type": "markdown",
   "id": "0dbcd5aa",
   "metadata": {},
   "source": [
    "In programming, polymorphism means the same function name (but different signatures) being used for different types."
   ]
  },
  {
   "cell_type": "markdown",
   "id": "332423b1",
   "metadata": {},
   "source": [
    "The key difference is the data types and the number of arguments used in function."
   ]
  },
  {
   "cell_type": "markdown",
   "id": "fc53fb5d",
   "metadata": {},
   "source": [
    "Alternatively, polymorphism in programming refers to methods/functions/operators with the same name that can be executed for many objects or classes."
   ]
  },
  {
   "cell_type": "markdown",
   "id": "b388c303",
   "metadata": {},
   "source": [
    "## Duck Typing"
   ]
  },
  {
   "cell_type": "markdown",
   "id": "6cd569eb",
   "metadata": {},
   "source": [
    "Duck typing is a type system used in dynamic programming language.\n",
    "\n",
    "Example: Python, Perl, Ruby, PHP, Javascript etc.\n",
    "\n",
    "* Type systems consist of Dynamic typing, static typing and duck typing."
   ]
  },
  {
   "cell_type": "markdown",
   "id": "566096e3",
   "metadata": {},
   "source": [
    "The type or the class of an object is less important than the method it defines."
   ]
  },
  {
   "cell_type": "markdown",
   "id": "ae03329c",
   "metadata": {},
   "source": [
    "#### The name Duck Typing comes from the phrase:\n",
    "     \"If it looks like a duck and quacks like a duck, it's a duck\""
   ]
  },
  {
   "cell_type": "code",
   "execution_count": 1,
   "id": "bf87c26a",
   "metadata": {},
   "outputs": [],
   "source": [
    "# Example\n",
    "\n",
    "class eco:\n",
    "    \n",
    "    def rev(self):\n",
    "        print(\"Eco mode-Activated\")\n",
    "        print(\"105 km per charge\")\n",
    "        \n",
    "class normal:\n",
    "    \n",
    "    def rev(self):\n",
    "        print(\"Normal mode-Activated\")\n",
    "        print(\"85 km per charge\")\n",
    "        \n",
    "class sport:\n",
    "    \n",
    "    def rev(self):\n",
    "        print(\"Sport mode-Activated\")\n",
    "        print(\"75 km per charge\")\n",
    "        \n",
    "class warp:\n",
    "    \n",
    "    def rev(self):\n",
    "        print(\"Warp mode-Activated\")\n",
    "        print(\"65 km per charge\")\n",
    "        \n",
    "\n",
    "class ev:\n",
    "    \n",
    "    def drive(self,trans):\n",
    "        trans.rev()"
   ]
  },
  {
   "cell_type": "code",
   "execution_count": 2,
   "id": "0377fcbf",
   "metadata": {},
   "outputs": [
    {
     "name": "stdout",
     "output_type": "stream",
     "text": [
      "Sport mode-Activated\n",
      "75 km per charge\n"
     ]
    }
   ],
   "source": [
    "trans = sport()\n",
    "\n",
    "moto = ev()\n",
    "moto.drive(trans)"
   ]
  },
  {
   "cell_type": "code",
   "execution_count": 3,
   "id": "5e8126d4",
   "metadata": {},
   "outputs": [
    {
     "name": "stdout",
     "output_type": "stream",
     "text": [
      "Eco mode-Activated\n",
      "105 km per charge\n"
     ]
    }
   ],
   "source": [
    "trans = eco()\n",
    "\n",
    "moto = ev()\n",
    "moto.drive(trans)"
   ]
  },
  {
   "cell_type": "markdown",
   "id": "d261fa26",
   "metadata": {},
   "source": [
    "## Operator Overloading"
   ]
  },
  {
   "cell_type": "markdown",
   "id": "14a03bfe",
   "metadata": {},
   "source": [
    "Operator overloading is the ability to use a built-in operator to define custom behavior for operators.\n",
    "\n"
   ]
  },
  {
   "cell_type": "code",
   "execution_count": 4,
   "id": "efe08876",
   "metadata": {},
   "outputs": [],
   "source": [
    "# Example\n",
    "\n",
    "class student:\n",
    "    \n",
    "    def __init__(self,m1,m2):\n",
    "        self.m1 = m1\n",
    "        self.m2 = m2\n",
    "        \n",
    "    def __add__(self,other):\n",
    "        mark1 = self.m1+other.m1\n",
    "        mark2 = self.m2+other.m2\n",
    "        s3 = student(mark1,mark2)\n",
    "        \n",
    "        return s3"
   ]
  },
  {
   "cell_type": "code",
   "execution_count": 5,
   "id": "63d83d8d",
   "metadata": {},
   "outputs": [
    {
     "name": "stdout",
     "output_type": "stream",
     "text": [
      "m1\n",
      "60\n",
      "\n",
      "m2\n",
      "50\n"
     ]
    }
   ],
   "source": [
    "s1 = student(25,30)\n",
    "s2 = student(35,20)\n",
    "\n",
    "s3 = s1+s2\n",
    "print('m1')\n",
    "print(s3.m1)\n",
    "print()\n",
    "print('m2')\n",
    "print(s3.m2)"
   ]
  },
  {
   "cell_type": "code",
   "execution_count": 6,
   "id": "a07ed821",
   "metadata": {},
   "outputs": [],
   "source": [
    "# Example\n",
    "\n",
    "class student:\n",
    "    \n",
    "    def __init__(self,m1,m2):\n",
    "        self.m1 = m1\n",
    "        self.m2 = m2\n",
    "        \n",
    "    def __add__(self,other):\n",
    "        mark1 = self.m1+other.m1\n",
    "        mark2 = self.m2+other.m2\n",
    "        s3 = student(mark1,mark2)\n",
    "        \n",
    "        return s3\n",
    "    \n",
    "    def __gt__(self,other):\n",
    "        \n",
    "        stud1 = self.m1+self.m2\n",
    "        stud2 = other.m1+other.m2\n",
    "        \n",
    "        if stud1>stud2:\n",
    "            return True\n",
    "        else:\n",
    "            return False"
   ]
  },
  {
   "cell_type": "code",
   "execution_count": 7,
   "id": "f6789128",
   "metadata": {},
   "outputs": [
    {
     "name": "stdout",
     "output_type": "stream",
     "text": [
      "S1 scored more than S2\n"
     ]
    }
   ],
   "source": [
    "s1 = student(85,90)\n",
    "s2 = student(75,95)\n",
    "\n",
    "if s1>s2:\n",
    "    print(\"S1 scored more than S2\")\n",
    "else:\n",
    "    print(\"S2 scored more than S1\")"
   ]
  },
  {
   "cell_type": "code",
   "execution_count": 8,
   "id": "9e0161fe",
   "metadata": {},
   "outputs": [
    {
     "name": "stdout",
     "output_type": "stream",
     "text": [
      "S2 scored more than S1\n"
     ]
    }
   ],
   "source": [
    "s1 = student(85,90)\n",
    "s2 = student(95,95)\n",
    "\n",
    "if s1>s2:\n",
    "    print(\"S1 scored more than S2\")\n",
    "else:\n",
    "    print(\"S2 scored more than S1\")"
   ]
  },
  {
   "cell_type": "markdown",
   "id": "1dd80d3f",
   "metadata": {},
   "source": [
    "## Method Overloading and Method Overriding"
   ]
  },
  {
   "cell_type": "markdown",
   "id": "cb7846e2",
   "metadata": {},
   "source": [
    "### Method Overloading"
   ]
  },
  {
   "cell_type": "markdown",
   "id": "5e53dc7a",
   "metadata": {},
   "source": [
    "Mehtod overloading in general allows a class to have more than on method with same name but different parameters. This feature isn't directly availbale in python."
   ]
  },
  {
   "cell_type": "code",
   "execution_count": 9,
   "id": "3e9d072e",
   "metadata": {},
   "outputs": [],
   "source": [
    "# Example\n",
    "\n",
    "class student:\n",
    "    \n",
    "    def __init(self,m1,m2):\n",
    "        self.m1 = m1\n",
    "        self.m2 = m2\n",
    "        \n",
    "    def sum(self,a=None,b=None,c=None):\n",
    "        s = 0\n",
    "        \n",
    "        if a!=None and b!=None and c!=None:\n",
    "            s = a+b+c\n",
    "        elif a!=None and b!=None:\n",
    "            s = a+b\n",
    "        else:\n",
    "            s = a\n",
    "            \n",
    "        return s"
   ]
  },
  {
   "cell_type": "code",
   "execution_count": 10,
   "id": "320739a9",
   "metadata": {},
   "outputs": [
    {
     "data": {
      "text/plain": [
       "60"
      ]
     },
     "execution_count": 10,
     "metadata": {},
     "output_type": "execute_result"
    }
   ],
   "source": [
    "obj = student()\n",
    "obj.sum(10,20,30)"
   ]
  },
  {
   "cell_type": "code",
   "execution_count": 11,
   "id": "6012cc1e",
   "metadata": {},
   "outputs": [
    {
     "data": {
      "text/plain": [
       "30"
      ]
     },
     "execution_count": 11,
     "metadata": {},
     "output_type": "execute_result"
    }
   ],
   "source": [
    "obj.sum(10,20)"
   ]
  },
  {
   "cell_type": "code",
   "execution_count": 12,
   "id": "bfd5dfc6",
   "metadata": {},
   "outputs": [
    {
     "data": {
      "text/plain": [
       "10"
      ]
     },
     "execution_count": 12,
     "metadata": {},
     "output_type": "execute_result"
    }
   ],
   "source": [
    "obj.sum(10)"
   ]
  },
  {
   "cell_type": "markdown",
   "id": "145f2ed4",
   "metadata": {},
   "source": [
    "### Method Overriding"
   ]
  },
  {
   "cell_type": "code",
   "execution_count": 13,
   "id": "fdb8ba8c",
   "metadata": {},
   "outputs": [],
   "source": [
    "class A:\n",
    "    \n",
    "    def show(self):\n",
    "        print('Show A')\n",
    "        \n",
    "class B(A):\n",
    "    pass"
   ]
  },
  {
   "cell_type": "code",
   "execution_count": 14,
   "id": "cade0e98",
   "metadata": {},
   "outputs": [
    {
     "name": "stdout",
     "output_type": "stream",
     "text": [
      "Show A\n"
     ]
    }
   ],
   "source": [
    "obj1 = B()\n",
    "obj1.show()"
   ]
  },
  {
   "cell_type": "code",
   "execution_count": 15,
   "id": "3f8a06b5",
   "metadata": {},
   "outputs": [],
   "source": [
    "# Here B overrides A\n",
    "class A:\n",
    "    \n",
    "    def show(self):\n",
    "        print('Show A')\n",
    "        \n",
    "class B(A):\n",
    "    \n",
    "    def show(self):\n",
    "        print('Show B')"
   ]
  },
  {
   "cell_type": "code",
   "execution_count": 16,
   "id": "f88c44ba",
   "metadata": {},
   "outputs": [
    {
     "name": "stdout",
     "output_type": "stream",
     "text": [
      "Show B\n"
     ]
    }
   ],
   "source": [
    "obj1 = B()\n",
    "obj1.show()"
   ]
  }
 ],
 "metadata": {
  "kernelspec": {
   "display_name": "Python 3 (ipykernel)",
   "language": "python",
   "name": "python3"
  },
  "language_info": {
   "codemirror_mode": {
    "name": "ipython",
    "version": 3
   },
   "file_extension": ".py",
   "mimetype": "text/x-python",
   "name": "python",
   "nbconvert_exporter": "python",
   "pygments_lexer": "ipython3",
   "version": "3.11.4"
  }
 },
 "nbformat": 4,
 "nbformat_minor": 5
}
