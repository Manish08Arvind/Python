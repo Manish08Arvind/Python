{
 "cells": [
  {
   "cell_type": "markdown",
   "metadata": {},
   "source": [
    "# Numpy Exercise - 01"
   ]
  },
  {
   "cell_type": "markdown",
   "metadata": {},
   "source": [
    "-----------"
   ]
  },
  {
   "cell_type": "code",
   "execution_count": 1,
   "metadata": {},
   "outputs": [],
   "source": [
    "import numpy as np"
   ]
  },
  {
   "cell_type": "markdown",
   "metadata": {},
   "source": [
    "**(1).Create a 1D array with 10 values in it and then convert the 1D array to 2D array ?**"
   ]
  },
  {
   "cell_type": "code",
   "execution_count": 2,
   "metadata": {},
   "outputs": [
    {
     "name": "stdout",
     "output_type": "stream",
     "text": [
      "Array 1:\n",
      " [ 0.01180793  2.15022849 -0.33455891 -1.40055384 -0.38459669 -0.6847496\n",
      "  2.09662671  1.2645252  -1.05869897 -0.70992622]\n",
      "[ 0.01180793  2.15022849 -0.33455891 -1.40055384 -0.38459669 -0.6847496\n",
      "  2.09662671  1.2645252  -1.05869897 -0.70992622]\n",
      "Dimension of Array 1: 1\n"
     ]
    }
   ],
   "source": [
    "arr1 = np.random.randn(10)\n",
    "print('Array 1:\\n',arr1)\n",
    "print(arr1)\n",
    "print('Dimension of Array 1:',arr1.ndim)"
   ]
  },
  {
   "cell_type": "code",
   "execution_count": 3,
   "metadata": {},
   "outputs": [
    {
     "name": "stdout",
     "output_type": "stream",
     "text": [
      "Array 2:\n",
      " [[ 0.01180793  2.15022849]\n",
      " [-0.33455891 -1.40055384]\n",
      " [-0.38459669 -0.6847496 ]\n",
      " [ 2.09662671  1.2645252 ]\n",
      " [-1.05869897 -0.70992622]]\n",
      "Dimension of Array 2: 2\n"
     ]
    }
   ],
   "source": [
    "arr2 = arr1.reshape(5,2)\n",
    "print('Array 2:\\n',arr2)\n",
    "print('Dimension of Array 2:',arr2.ndim)"
   ]
  },
  {
   "cell_type": "markdown",
   "metadata": {},
   "source": [
    "-------------------------------------------------------------"
   ]
  },
  {
   "cell_type": "markdown",
   "metadata": {},
   "source": [
    "**(2).Print or show only 3 decimal places of the numpy array `random_arr`**"
   ]
  },
  {
   "cell_type": "code",
   "execution_count": 4,
   "metadata": {},
   "outputs": [
    {
     "data": {
      "text/plain": [
       "array([-0.366,  0.002, -0.176,  0.797,  0.518, -1.584, -0.366,  0.795,\n",
       "        0.526,  1.906])"
      ]
     },
     "execution_count": 4,
     "metadata": {},
     "output_type": "execute_result"
    }
   ],
   "source": [
    "random_arr = np.random.randn(10)\n",
    "np.round(random_arr,3)"
   ]
  },
  {
   "cell_type": "markdown",
   "metadata": {},
   "source": [
    "----------------------------------"
   ]
  },
  {
   "cell_type": "markdown",
   "metadata": {},
   "source": [
    "**(3).The number of items printed to be limit in python numpy array a to a maximum of 6 elements.**\n",
    "\n",
    "   \n",
    "     Intake : x = np.arange(15)\n",
    "               array([ 0,  1,  2,  3,  4,  5,  6,  7,  8,  9, 10, 11, 12, 13, 14])\n",
    "               \n",
    "     Result : ([ 0,  1,  2, ..., 12, 13, 14])"
   ]
  },
  {
   "cell_type": "code",
   "execution_count": 5,
   "metadata": {},
   "outputs": [
    {
     "data": {
      "text/plain": [
       "array([ 0,  1,  2,  3,  4,  5,  6,  7,  8,  9, 10, 11, 12, 13, 14])"
      ]
     },
     "execution_count": 5,
     "metadata": {},
     "output_type": "execute_result"
    }
   ],
   "source": [
    "x = np.arange(15)\n",
    "x"
   ]
  },
  {
   "cell_type": "code",
   "execution_count": null,
   "metadata": {},
   "outputs": [],
   "source": []
  },
  {
   "cell_type": "markdown",
   "metadata": {},
   "source": [
    "---------------------"
   ]
  },
  {
   "cell_type": "markdown",
   "metadata": {},
   "source": [
    "**(4). Take two arrays  `x` and `y` and Stack the `x` and `y` arrays Horizontal.**\n",
    "\n",
    "\n",
    "    Intake:\n",
    "                x = np.arange(10).reshape(2,-1)\n",
    "\n",
    "                y = np.repeat(1, 10).reshape(2,-1)\n",
    "\n",
    " \n",
    "    \n",
    "    Result:       ([[0, 1, 2, 3, 4, 1, 1, 1, 1, 1],\n",
    "                   [5, 6, 7, 8, 9, 1, 1, 1, 1, 1]])"
   ]
  },
  {
   "cell_type": "code",
   "execution_count": 6,
   "metadata": {},
   "outputs": [
    {
     "name": "stdout",
     "output_type": "stream",
     "text": [
      "Array x:\n",
      " [[0 1 2 3 4]\n",
      " [5 6 7 8 9]]\n",
      "\n",
      "Array y:\n",
      " [[1 1 1 1 1]\n",
      " [1 1 1 1 1]]\n"
     ]
    }
   ],
   "source": [
    "x = np.arange(10).reshape(2,-1)\n",
    "y = np.repeat(1, 10).reshape(2,-1)\n",
    "print('Array x:\\n',x)\n",
    "print()\n",
    "print('Array y:\\n',y)"
   ]
  },
  {
   "cell_type": "code",
   "execution_count": 7,
   "metadata": {},
   "outputs": [
    {
     "data": {
      "text/plain": [
       "array([[0, 1, 2, 3, 4, 1, 1, 1, 1, 1],\n",
       "       [5, 6, 7, 8, 9, 1, 1, 1, 1, 1]])"
      ]
     },
     "execution_count": 7,
     "metadata": {},
     "output_type": "execute_result"
    }
   ],
   "source": [
    "np.hstack(tup=(x,y))"
   ]
  },
  {
   "cell_type": "code",
   "execution_count": 8,
   "metadata": {},
   "outputs": [
    {
     "data": {
      "text/plain": [
       "array([[0, 1, 2, 3, 4, 1, 1, 1, 1, 1],\n",
       "       [5, 6, 7, 8, 9, 1, 1, 1, 1, 1]])"
      ]
     },
     "execution_count": 8,
     "metadata": {},
     "output_type": "execute_result"
    }
   ],
   "source": [
    "# even a list can be passed to get the output\n",
    "np.hstack([x,y])"
   ]
  },
  {
   "cell_type": "markdown",
   "metadata": {},
   "source": [
    "----------------------"
   ]
  },
  {
   "cell_type": "markdown",
   "metadata": {},
   "source": [
    "**(5). Consider the given array's and print the values which are common in both the arrays.**\n",
    "    \n",
    "    \n",
    "    Intake: \n",
    "   \n",
    "        x = np.array([1,2,3,2,3,4,3,4,5,6])\n",
    "        y = np.array([7,2,10,2,7,4,9,4,9,8])\n",
    " \n",
    "    Results:\n",
    "        \n",
    "         ([2, 4])\n",
    "            \n",
    "    "
   ]
  },
  {
   "cell_type": "code",
   "execution_count": 9,
   "metadata": {},
   "outputs": [
    {
     "name": "stdout",
     "output_type": "stream",
     "text": [
      "Common elements between x and y are:\n",
      "[2 4]\n"
     ]
    }
   ],
   "source": [
    "x = np.array([1,2,3,2,3,4,3,4,5,6])\n",
    "y = np.array([7,2,10,2,7,4,9,4,9,8])\n",
    "print('Common elements between x and y are:')\n",
    "print(np.intersect1d(x,y))"
   ]
  },
  {
   "cell_type": "markdown",
   "metadata": {},
   "source": [
    "---------------------"
   ]
  },
  {
   "cell_type": "markdown",
   "metadata": {},
   "source": [
    "**(6). There are two array x and y ,drop the items in `X` which already exist in `Y`.**\n",
    "\n",
    "   \n",
    "    INTAKE:\n",
    "     x = np.array([1,2,3,4,5])\n",
    "     y = np.array([5,6,7,8,9])\n",
    "    \n",
    "    \n",
    "    RESULT:\n",
    "     ([1,2,3,4])\n",
    "        \n",
    "    "
   ]
  },
  {
   "cell_type": "code",
   "execution_count": 10,
   "metadata": {},
   "outputs": [
    {
     "data": {
      "text/plain": [
       "array([1, 2, 3, 4])"
      ]
     },
     "execution_count": 10,
     "metadata": {},
     "output_type": "execute_result"
    }
   ],
   "source": [
    "x = np.array([1,2,3,4,5])\n",
    "y = np.array([5,6,7,8,9])\n",
    "\n",
    "np.array(list(filter(lambda i:i not in y,x)))"
   ]
  },
  {
   "cell_type": "markdown",
   "metadata": {},
   "source": [
    "--------------------------"
   ]
  },
  {
   "cell_type": "markdown",
   "metadata": {},
   "source": [
    "**(7). Reverse the rows of a 2D array.**\n",
    "\n",
    "\n",
    "    Intake : X = np.arange(9).reshape(3,3)\n",
    "    \n",
    "    Result :      ([[6, 7, 8],\n",
    "                    [3, 4, 5],\n",
    "                    [0, 1, 2]])"
   ]
  },
  {
   "cell_type": "code",
   "execution_count": 11,
   "metadata": {},
   "outputs": [
    {
     "data": {
      "text/plain": [
       "array([[0, 1, 2],\n",
       "       [3, 4, 5],\n",
       "       [6, 7, 8]])"
      ]
     },
     "execution_count": 11,
     "metadata": {},
     "output_type": "execute_result"
    }
   ],
   "source": [
    "X = np.arange(9).reshape(3,3)\n",
    "X"
   ]
  },
  {
   "cell_type": "code",
   "execution_count": 12,
   "metadata": {},
   "outputs": [
    {
     "name": "stdout",
     "output_type": "stream",
     "text": [
      "Reversed array\n"
     ]
    },
    {
     "data": {
      "text/plain": [
       "array([[6, 7, 8],\n",
       "       [3, 4, 5],\n",
       "       [0, 1, 2]])"
      ]
     },
     "execution_count": 12,
     "metadata": {},
     "output_type": "execute_result"
    }
   ],
   "source": [
    "print('Reversed array')\n",
    "np.flip(X,axis=0)"
   ]
  },
  {
   "cell_type": "markdown",
   "metadata": {},
   "source": [
    "----------------------"
   ]
  },
  {
   "cell_type": "markdown",
   "metadata": {},
   "source": [
    "**(8). Reverse the columns of a 2D array.**\n",
    "\n",
    "    Intake : X = np.arange(9).reshape(3,3)\n",
    "    \n",
    "    Result :     ([[2, 1, 0],\n",
    "                   [5, 4, 3],\n",
    "                   [8, 7, 6]])\n"
   ]
  },
  {
   "cell_type": "code",
   "execution_count": 13,
   "metadata": {},
   "outputs": [
    {
     "data": {
      "text/plain": [
       "array([[0, 1, 2],\n",
       "       [3, 4, 5],\n",
       "       [6, 7, 8]])"
      ]
     },
     "execution_count": 13,
     "metadata": {},
     "output_type": "execute_result"
    }
   ],
   "source": [
    "X = np.arange(9).reshape(3,3)\n",
    "X"
   ]
  },
  {
   "cell_type": "code",
   "execution_count": 14,
   "metadata": {},
   "outputs": [
    {
     "data": {
      "text/plain": [
       "array([[2, 1, 0],\n",
       "       [5, 4, 3],\n",
       "       [8, 7, 6]])"
      ]
     },
     "execution_count": 14,
     "metadata": {},
     "output_type": "execute_result"
    }
   ],
   "source": [
    "np.flip(X,axis=1)"
   ]
  },
  {
   "cell_type": "markdown",
   "metadata": {},
   "source": [
    "---------------------"
   ]
  },
  {
   "cell_type": "markdown",
   "metadata": {},
   "source": [
    "**(9). Print the ranks for the given numeric array `x`.**\n",
    " \n",
    "   \n",
    "    Intake:\n",
    "    np.random.seed(10)\n",
    "    x = np.random.randint(20, size=10)\n",
    "    print(x)\n",
    "    [ 9  4 15  0 17 16 17  8  9  0]\n",
    "    \n",
    "    \n",
    "    Result:\n",
    "    [4 2 6 0 8 7 9 3 5 1]\n",
    "    "
   ]
  },
  {
   "cell_type": "code",
   "execution_count": 15,
   "metadata": {},
   "outputs": [
    {
     "data": {
      "text/plain": [
       "array([ 9,  4, 15,  0, 17, 16, 17,  8,  9,  0])"
      ]
     },
     "execution_count": 15,
     "metadata": {},
     "output_type": "execute_result"
    }
   ],
   "source": [
    "np.random.seed(10)\n",
    "x = np.random.randint(20, size=10)\n",
    "x"
   ]
  },
  {
   "cell_type": "code",
   "execution_count": 16,
   "metadata": {},
   "outputs": [
    {
     "data": {
      "text/plain": [
       "array([4, 2, 6, 0, 8, 7, 9, 3, 5, 1], dtype=int64)"
      ]
     },
     "execution_count": 16,
     "metadata": {},
     "output_type": "execute_result"
    }
   ],
   "source": [
    "ord = x.argsort()\n",
    "ord.argsort()"
   ]
  },
  {
   "cell_type": "markdown",
   "metadata": {},
   "source": [
    "--------------------"
   ]
  },
  {
   "cell_type": "markdown",
   "metadata": {},
   "source": [
    "**(10). For the given numeric array print the rank array with same shape of numeric array.**\n",
    "\n",
    "\n",
    "    Intake:\n",
    "    np.random.seed(10)\n",
    "    x = np.random.randint(20, size=[2,5])\n",
    "    print(a)\n",
    "    [[ 9  4 15  0 17]\n",
    "    [16 17  8  9  0]]\n",
    "    \n",
    "    Result:\n",
    "    [[4 2 6 0 8]\n",
    "    [7 9 3 5 1]]"
   ]
  },
  {
   "cell_type": "code",
   "execution_count": 17,
   "metadata": {},
   "outputs": [
    {
     "name": "stdout",
     "output_type": "stream",
     "text": [
      "[[ 9  4 15  0 17]\n",
      " [16 17  8  9  0]]\n"
     ]
    }
   ],
   "source": [
    "np.random.seed(10)\n",
    "a = np.random.randint(20, size=[2,5])\n",
    "print(a)"
   ]
  },
  {
   "cell_type": "code",
   "execution_count": 18,
   "metadata": {},
   "outputs": [
    {
     "name": "stdout",
     "output_type": "stream",
     "text": [
      "ord [3 9 1 7 0 8 2 5 4 6]\n",
      "rnk [4 2 6 0 8 7 9 3 5 1]\n"
     ]
    },
    {
     "data": {
      "text/plain": [
       "array([[4, 2, 6, 0, 8],\n",
       "       [7, 9, 3, 5, 1]], dtype=int64)"
      ]
     },
     "execution_count": 18,
     "metadata": {},
     "output_type": "execute_result"
    }
   ],
   "source": [
    "ord = a.flatten().argsort()\n",
    "print('ord',ord)\n",
    "rnk = ord.argsort()\n",
    "print('rnk',rnk)\n",
    "rnk.reshape(2,5)"
   ]
  },
  {
   "cell_type": "markdown",
   "metadata": {},
   "source": [
    "--------------------------------"
   ]
  },
  {
   "cell_type": "markdown",
   "metadata": {},
   "source": [
    "**(11). Subtract the 1d array y_1d from the 2d array x_2d, such that each item of y_1d subtracts from respective row of x_2d.**\n",
    "    \n",
    "    Intake:\n",
    "    x_2d = np.array([[3,3,3],[4,4,4],[5,5,5]])\n",
    "    y_1d = np.array([1,2,3])\n",
    "    \n",
    "    Result:\n",
    "     [[2 2 2]\n",
    "     [2 2 2]\n",
    "     [2 2 2]]"
   ]
  },
  {
   "cell_type": "code",
   "execution_count": 19,
   "metadata": {},
   "outputs": [
    {
     "name": "stdout",
     "output_type": "stream",
     "text": [
      "x_2d:\n",
      " [[3 3 3]\n",
      " [4 4 4]\n",
      " [5 5 5]]\n",
      "\n",
      "y_1d:\n",
      " [1 2 3]\n"
     ]
    }
   ],
   "source": [
    "x_2d = np.array([[3,3,3],[4,4,4],[5,5,5]])\n",
    "y_1d = np.array([1,2,3])\n",
    "print('x_2d:\\n',x_2d)\n",
    "print()\n",
    "print('y_1d:\\n',y_1d)"
   ]
  },
  {
   "cell_type": "code",
   "execution_count": 20,
   "metadata": {},
   "outputs": [
    {
     "name": "stdout",
     "output_type": "stream",
     "text": [
      "[[2 2 2]\n",
      " [2 2 2]\n",
      " [2 2 2]]\n"
     ]
    }
   ],
   "source": [
    "print(x_2d-y_1d[:,None])"
   ]
  },
  {
   "cell_type": "code",
   "execution_count": 21,
   "metadata": {},
   "outputs": [],
   "source": [
    "# or"
   ]
  },
  {
   "cell_type": "code",
   "execution_count": 22,
   "metadata": {},
   "outputs": [
    {
     "name": "stdout",
     "output_type": "stream",
     "text": [
      "[[2 2 2]\n",
      " [2 2 2]\n",
      " [2 2 2]]\n"
     ]
    }
   ],
   "source": [
    "print(x_2d-y_1d.reshape(3,1))"
   ]
  },
  {
   "cell_type": "markdown",
   "metadata": {},
   "source": [
    "----------------"
   ]
  },
  {
   "cell_type": "markdown",
   "metadata": {},
   "source": [
    "-------------------"
   ]
  }
 ],
 "metadata": {
  "kernelspec": {
   "display_name": "Python 3 (ipykernel)",
   "language": "python",
   "name": "python3"
  },
  "language_info": {
   "codemirror_mode": {
    "name": "ipython",
    "version": 3
   },
   "file_extension": ".py",
   "mimetype": "text/x-python",
   "name": "python",
   "nbconvert_exporter": "python",
   "pygments_lexer": "ipython3",
   "version": "3.11.4"
  }
 },
 "nbformat": 4,
 "nbformat_minor": 2
}
