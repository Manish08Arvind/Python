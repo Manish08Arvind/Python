{
 "cells": [
  {
   "cell_type": "markdown",
   "id": "67ffa153",
   "metadata": {},
   "source": [
    "# Class"
   ]
  },
  {
   "cell_type": "markdown",
   "id": "9ee83911",
   "metadata": {},
   "source": [
    "Design in object oriented programming is called as class.\n",
    "\n",
    "The design of object is written inside a class.\n",
    "\n",
    "objects are called as instance.\n",
    "\n",
    "Class can also be referred to as blue print."
   ]
  },
  {
   "cell_type": "code",
   "execution_count": 1,
   "id": "9f3a0f37",
   "metadata": {},
   "outputs": [
    {
     "name": "stdout",
     "output_type": "stream",
     "text": [
      "Zeal,25,School\n"
     ]
    }
   ],
   "source": [
    "# Example\n",
    "\n",
    "class person:\n",
    "    \n",
    "    def bio(self):\n",
    "        print('Zeal,25,School')\n",
    "        \n",
    "        \n",
    "p1 = person()\n",
    "\n",
    "person.bio(p1)"
   ]
  },
  {
   "cell_type": "markdown",
   "id": "2bfedd8e",
   "metadata": {},
   "source": [
    "## _ _ init _ _"
   ]
  },
  {
   "cell_type": "markdown",
   "id": "54460f94",
   "metadata": {},
   "source": [
    "_ _ init _ _ is a special method in python.\n",
    "\n",
    "The default _ _ init _ _ constructor is C++ and Java.\n",
    "\n",
    "constructors are used to initialize the object's state.\n",
    "\n",
    "The task of constructor is to initialize to the data members of the class when an object of the class is created."
   ]
  },
  {
   "cell_type": "code",
   "execution_count": 2,
   "id": "1359fd61",
   "metadata": {},
   "outputs": [],
   "source": [
    "# Example\n",
    "\n",
    "class person:\n",
    "    \n",
    "    def __init__(self,name,age):\n",
    "        self.name = name\n",
    "        self.age = age\n",
    "        \n",
    "    def bio(self): # self is a pointer\n",
    "        print('Name:',self.name,'Age:',self.age)"
   ]
  },
  {
   "cell_type": "code",
   "execution_count": 3,
   "id": "193ce06f",
   "metadata": {},
   "outputs": [
    {
     "name": "stdout",
     "output_type": "stream",
     "text": [
      "Name: Test1 Age: 25\n",
      "Name: Test2 Age: 29\n"
     ]
    }
   ],
   "source": [
    "p1 = person('Test1',25)\n",
    "p2 = person('Test2',29)\n",
    "\n",
    "p1.bio()\n",
    "p2.bio()"
   ]
  },
  {
   "cell_type": "code",
   "execution_count": 4,
   "id": "ca8dc0ad",
   "metadata": {},
   "outputs": [],
   "source": [
    "# Example of update\n",
    "\n",
    "class person:\n",
    "    \n",
    "    def __init__(self):\n",
    "        self.name = 'Test'\n",
    "        self.age = 26\n",
    "        \n",
    "    def update(self):\n",
    "        self.age = 30"
   ]
  },
  {
   "cell_type": "code",
   "execution_count": 5,
   "id": "87fef0f4",
   "metadata": {},
   "outputs": [
    {
     "name": "stdout",
     "output_type": "stream",
     "text": [
      "Test1 26\n",
      "Test 30\n"
     ]
    }
   ],
   "source": [
    "p1 = person()\n",
    "p2 = person()\n",
    "\n",
    "p1.name = 'Test1'\n",
    "p2.age = 27\n",
    "\n",
    "p2.update()\n",
    "\n",
    "print(p1.name,p1.age)\n",
    "print(p2.name,p2.age)"
   ]
  },
  {
   "cell_type": "markdown",
   "id": "0f74c4a9",
   "metadata": {},
   "source": [
    "### Types of Variables"
   ]
  },
  {
   "cell_type": "markdown",
   "id": "39f62269",
   "metadata": {},
   "source": [
    "Variables in general are containers for storing data."
   ]
  },
  {
   "cell_type": "markdown",
   "id": "8dc897d9",
   "metadata": {},
   "source": [
    "Two types of variables:\n",
    "    \n",
    "> Class variable\n",
    "\n",
    "> Intance variable"
   ]
  },
  {
   "cell_type": "markdown",
   "id": "76a9d423",
   "metadata": {},
   "source": [
    "#### Class variable"
   ]
  },
  {
   "cell_type": "markdown",
   "id": "1981a286",
   "metadata": {},
   "source": [
    "class variables are defined within the class but outside of any object methods."
   ]
  },
  {
   "cell_type": "markdown",
   "id": "a2203c14",
   "metadata": {},
   "source": [
    "#### Intance variable"
   ]
  },
  {
   "cell_type": "markdown",
   "id": "335637a0",
   "metadata": {},
   "source": [
    "Instance variables are defined within class methods, typically the constructor."
   ]
  },
  {
   "cell_type": "code",
   "execution_count": 6,
   "id": "e0faf881",
   "metadata": {},
   "outputs": [],
   "source": [
    "# Example\n",
    "\n",
    "class car:\n",
    "    \n",
    "    wheels = 4 # Class variable\n",
    "    \n",
    "    def __init__(self):\n",
    "        self.mileage = 10  # Instance variable\n",
    "        self.comp = 'KIA'  # Instance variable"
   ]
  },
  {
   "cell_type": "code",
   "execution_count": 7,
   "id": "655e6afd",
   "metadata": {},
   "outputs": [
    {
     "name": "stdout",
     "output_type": "stream",
     "text": [
      "KIA 8 4\n",
      "KIA 10 4\n"
     ]
    }
   ],
   "source": [
    "c1 = car()\n",
    "c2 = car()\n",
    "\n",
    "c1.mileage = 8\n",
    "\n",
    "print(c1.comp,c1.mileage,c1.wheels)\n",
    "print(c2.comp,c2.mileage,c2.wheels)"
   ]
  },
  {
   "cell_type": "markdown",
   "id": "e4d28547",
   "metadata": {},
   "source": [
    "### Types of Methods"
   ]
  },
  {
   "cell_type": "markdown",
   "id": "0b400a6e",
   "metadata": {},
   "source": [
    "Functions in object oriented programming are called as methods."
   ]
  },
  {
   "cell_type": "markdown",
   "id": "5c4fc594",
   "metadata": {},
   "source": [
    "Methods are functions associated with objects and can manipulate data passed through variables and action through the behavior defined in it."
   ]
  },
  {
   "cell_type": "markdown",
   "id": "7fc7866b",
   "metadata": {},
   "source": [
    "Types of Methods:\n",
    "    \n",
    "> Instance method\n",
    "\n",
    "> Class method\n",
    "\n",
    "> Static method"
   ]
  },
  {
   "cell_type": "markdown",
   "id": "97d15ab5",
   "metadata": {},
   "source": [
    "#### Instance method"
   ]
  },
  {
   "cell_type": "code",
   "execution_count": 8,
   "id": "ac7c2394",
   "metadata": {},
   "outputs": [],
   "source": [
    "class student:\n",
    "    \n",
    "    grade = 'tenth'\n",
    "    \n",
    "    def __init__(self,m1,m2,m3):\n",
    "        self.m1 = m1\n",
    "        self.m2 = m2\n",
    "        self.m3 = m3\n",
    "        \n",
    "    def avg(self):\n",
    "        return (self.m1+self.m2+self.m3)/3"
   ]
  },
  {
   "cell_type": "code",
   "execution_count": 9,
   "id": "2145f83b",
   "metadata": {},
   "outputs": [],
   "source": [
    "s1 = student(20,25,30)\n",
    "s2 = student(25,18,35)"
   ]
  },
  {
   "cell_type": "code",
   "execution_count": 10,
   "id": "a0a1d9ec",
   "metadata": {},
   "outputs": [
    {
     "data": {
      "text/plain": [
       "25.0"
      ]
     },
     "execution_count": 10,
     "metadata": {},
     "output_type": "execute_result"
    }
   ],
   "source": [
    "s1.avg()"
   ]
  },
  {
   "cell_type": "code",
   "execution_count": 11,
   "id": "23685436",
   "metadata": {},
   "outputs": [
    {
     "data": {
      "text/plain": [
       "26.0"
      ]
     },
     "execution_count": 11,
     "metadata": {},
     "output_type": "execute_result"
    }
   ],
   "source": [
    "s2.avg()"
   ]
  },
  {
   "cell_type": "code",
   "execution_count": 12,
   "id": "d98d20da",
   "metadata": {},
   "outputs": [
    {
     "data": {
      "text/plain": [
       "'tenth'"
      ]
     },
     "execution_count": 12,
     "metadata": {},
     "output_type": "execute_result"
    }
   ],
   "source": [
    "student.grade"
   ]
  },
  {
   "cell_type": "markdown",
   "id": "d7734915",
   "metadata": {},
   "source": [
    "There are two types of instance methods:\n",
    "\n",
    "> Accessors\n",
    "\n",
    "> Mutators (for setting a value)"
   ]
  },
  {
   "cell_type": "markdown",
   "id": "01fb0779",
   "metadata": {},
   "source": [
    "#### Class method"
   ]
  },
  {
   "cell_type": "markdown",
   "id": "a66301e2",
   "metadata": {},
   "source": [
    "\n",
    "class methods are bound to a class rather than an object."
   ]
  },
  {
   "cell_type": "code",
   "execution_count": 13,
   "id": "61504fcf",
   "metadata": {},
   "outputs": [
    {
     "name": "stdout",
     "output_type": "stream",
     "text": [
      "('ABC', 'tenth')\n"
     ]
    }
   ],
   "source": [
    "class student:\n",
    "    \n",
    "    school = 'ABC'\n",
    "    \n",
    "    grade = 'tenth'\n",
    "    \n",
    "    def __init__(self,m1,m2,m3):\n",
    "        self.m1 = m1\n",
    "        self.m2 = m2\n",
    "        self.m3 = m3\n",
    "        \n",
    "    def avg(self):\n",
    "        return (self.m1+self.m2+self.m3)/3\n",
    "    \n",
    "    def get_m(self):\n",
    "        return self.m1\n",
    "    \n",
    "    @classmethod\n",
    "    def info(cls):\n",
    "        return cls.school,cls.grade\n",
    "    \n",
    "print(student.info())"
   ]
  },
  {
   "cell_type": "markdown",
   "id": "d8e23e53",
   "metadata": {},
   "source": [
    "#### Static method"
   ]
  },
  {
   "cell_type": "markdown",
   "id": "3a1d7b46",
   "metadata": {},
   "source": [
    "It is a method defined within the class and not for any object of the class.\n",
    "\n",
    "Static method doesn't receive any implicit function."
   ]
  },
  {
   "cell_type": "code",
   "execution_count": 14,
   "id": "e954d248",
   "metadata": {},
   "outputs": [],
   "source": [
    "class student:\n",
    "    \n",
    "    school = 'ABC'\n",
    "    \n",
    "    grade = 'tenth'\n",
    "    \n",
    "    def __init__(self,m1,m2,m3):\n",
    "        self.m1 = m1\n",
    "        self.m2 = m2\n",
    "        self.m3 = m3\n",
    "        \n",
    "    def avg(self):\n",
    "        return (self.m1+self.m2+self.m3)/3\n",
    "    \n",
    "    def get_m(self):\n",
    "        return self.m1\n",
    "    \n",
    "    @staticmethod\n",
    "    def info():\n",
    "        print(\"This is student class\")"
   ]
  },
  {
   "cell_type": "code",
   "execution_count": 15,
   "id": "f30f8bbb",
   "metadata": {},
   "outputs": [
    {
     "name": "stdout",
     "output_type": "stream",
     "text": [
      "This is student class\n"
     ]
    }
   ],
   "source": [
    "student.info()"
   ]
  },
  {
   "cell_type": "markdown",
   "id": "8eb03e3f",
   "metadata": {},
   "source": [
    "### Inner class"
   ]
  },
  {
   "cell_type": "code",
   "execution_count": 16,
   "id": "14b9adab",
   "metadata": {},
   "outputs": [],
   "source": [
    "class car:\n",
    "    def __init__(self):\n",
    "        self.comp = 'Company Name'\n",
    "        self.name = 'Car Name'\n",
    "        self.suv = self.suv()\n",
    "        self.sedan = self.sedan()\n",
    " \n",
    "    def show(self):\n",
    "        print('Company Name:', self.comp)\n",
    "        print('Car Name:', self.name)\n",
    " \n",
    "    class suv:\n",
    "        def __init__(self):\n",
    "            self.comp = 'Toyota'\n",
    "            self.name = 'Innova'\n",
    "            self.seat = 7\n",
    " \n",
    "        def display(self):\n",
    "            print('Company Name:',self.comp)\n",
    "            print('Car Name:',self.name)\n",
    "            print('No. of seats:',self.seat)\n",
    " \n",
    "    class sedan:\n",
    "        def __init__(self):\n",
    "            self.comp = 'Lexus'\n",
    "            self.name = 'ES'\n",
    "            self.seat = 4\n",
    " \n",
    "        def display(self):\n",
    "            print('Company Name:',self.comp)\n",
    "            print('Car Name:',self.name)\n",
    "            print('No. of seats:',self.seat)"
   ]
  },
  {
   "cell_type": "code",
   "execution_count": 17,
   "id": "aad1cb1c",
   "metadata": {},
   "outputs": [
    {
     "name": "stdout",
     "output_type": "stream",
     "text": [
      "Company Name: Company Name\n",
      "Car Name: Car Name\n",
      "\n",
      "Company Name: Toyota\n",
      "Car Name: Innova\n",
      "No. of seats: 7\n",
      "\n",
      "Company Name: Lexus\n",
      "Car Name: ES\n",
      "No. of seats: 4\n"
     ]
    }
   ],
   "source": [
    "outer = car()\n",
    "outer.show()\n",
    "print() \n",
    "c1 = outer.suv\n",
    "c2 = outer.sedan\n",
    "\n",
    "c1.display()\n",
    "print()\n",
    "c2.display()"
   ]
  },
  {
   "cell_type": "code",
   "execution_count": null,
   "id": "1b28777e",
   "metadata": {},
   "outputs": [],
   "source": []
  }
 ],
 "metadata": {
  "kernelspec": {
   "display_name": "Python 3 (ipykernel)",
   "language": "python",
   "name": "python3"
  },
  "language_info": {
   "codemirror_mode": {
    "name": "ipython",
    "version": 3
   },
   "file_extension": ".py",
   "mimetype": "text/x-python",
   "name": "python",
   "nbconvert_exporter": "python",
   "pygments_lexer": "ipython3",
   "version": "3.11.4"
  }
 },
 "nbformat": 4,
 "nbformat_minor": 5
}
