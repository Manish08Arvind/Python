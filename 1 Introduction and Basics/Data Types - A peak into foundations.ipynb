{
 "cells": [
  {
   "cell_type": "markdown",
   "metadata": {},
   "source": [
    "#### Data types are the classification of data i.e. it defines the types of varaible in which the data item is stored"
   ]
  },
  {
   "cell_type": "markdown",
   "metadata": {},
   "source": [
    "> It defines what type data is to be stored in a varaible\n",
    "\n",
    "> These data stored in the memory are of different types"
   ]
  },
  {
   "cell_type": "markdown",
   "metadata": {},
   "source": [
    "### Let's make it simple!\n",
    "\n",
    "##### A T-Shirt is a Variable and the kind of material used in it is the data type\n",
    "##### Example: A Cotton(Data Type) Shirt (Variable)"
   ]
  },
  {
   "cell_type": "markdown",
   "metadata": {},
   "source": [
    "### Different Data Types"
   ]
  },
  {
   "cell_type": "markdown",
   "metadata": {},
   "source": [
    "> Numeric\n",
    "\n",
    "    >> Integer\n",
    "    \n",
    "    >> Complex Number\n",
    "    \n",
    "    >> Float\n",
    "\n",
    "> Dictionary\n",
    "\n",
    "> Boolean\n",
    "\n",
    "> Set\n",
    "\n",
    "> Sequence Type\n",
    "\n",
    "    >> Strings\n",
    "    \n",
    "    >> List\n",
    "    \n",
    "    >> Tuple\n",
    "    \n",
    "> Binary Type\n",
    "\n",
    "    >> Memory view\n",
    "    \n",
    "    >> Byte array\n",
    "    \n",
    "    >> Bytes"
   ]
  },
  {
   "cell_type": "markdown",
   "metadata": {},
   "source": [
    "### Numeric"
   ]
  },
  {
   "cell_type": "code",
   "execution_count": 1,
   "metadata": {},
   "outputs": [
    {
     "name": "stdout",
     "output_type": "stream",
     "text": [
      "Type of a is <class 'int'>\n"
     ]
    }
   ],
   "source": [
    "a = 10\n",
    "print(\"Type of a is\",type(a))"
   ]
  },
  {
   "cell_type": "code",
   "execution_count": 2,
   "metadata": {},
   "outputs": [
    {
     "name": "stdout",
     "output_type": "stream",
     "text": [
      "Type of b is <class 'float'>\n"
     ]
    }
   ],
   "source": [
    "b = 10.45\n",
    "print(\"Type of b is\",type(b))"
   ]
  },
  {
   "cell_type": "code",
   "execution_count": 3,
   "metadata": {},
   "outputs": [
    {
     "name": "stdout",
     "output_type": "stream",
     "text": [
      "Type of c is <class 'complex'>\n"
     ]
    }
   ],
   "source": [
    "c = 3+5j\n",
    "print(\"Type of c is\",type(c))"
   ]
  },
  {
   "cell_type": "markdown",
   "metadata": {},
   "source": [
    "### Sequence Type"
   ]
  },
  {
   "cell_type": "markdown",
   "metadata": {},
   "source": [
    "#### Strings"
   ]
  },
  {
   "cell_type": "markdown",
   "metadata": {},
   "source": [
    "Theses are arrays of bytes representing unicode characters.\n",
    "\n",
    "A string is a collection of one or more characters contained in single-quote or double-quote or triple-quote.\n",
    "\n",
    "In Python there is no character data type, a character is a string of length one. It is represented by str class."
   ]
  },
  {
   "cell_type": "code",
   "execution_count": 4,
   "metadata": {},
   "outputs": [
    {
     "name": "stdout",
     "output_type": "stream",
     "text": [
      "Data Types\n",
      "The type of str_variable is <class 'str'>\n"
     ]
    }
   ],
   "source": [
    "str_variable = \"Data Types\"\n",
    "print(str_variable)\n",
    "print(\"The type of str_variable is\",type(str_variable))"
   ]
  },
  {
   "cell_type": "markdown",
   "metadata": {},
   "source": [
    "#### List"
   ]
  },
  {
   "cell_type": "markdown",
   "metadata": {},
   "source": [
    "It is an ordered sequence which is mutable and made up of one or more elements. \n",
    "\n",
    "A list can have elements of different data types, such as integer, float, string, tuple or even another list.\n",
    "\n",
    "List helps us easily group elements of mixed data types.\n",
    "\n",
    "Elements of list are enclosed in square brackets and are separated by comma.\n",
    "\n",
    "List indices also start from 0"
   ]
  },
  {
   "cell_type": "code",
   "execution_count": 5,
   "metadata": {},
   "outputs": [
    {
     "name": "stdout",
     "output_type": "stream",
     "text": [
      "[1, 'Hello', 30.2, True, (5+6j)]\n"
     ]
    }
   ],
   "source": [
    "my_list = [1,'Hello',30.2,True,5+6j]\n",
    "print(my_list)"
   ]
  },
  {
   "cell_type": "markdown",
   "metadata": {},
   "source": [
    "#### Tuple"
   ]
  },
  {
   "cell_type": "markdown",
   "metadata": {},
   "source": [
    "A tuple is an ordered sequence of elements of different data types, such as integer, float, string, list or even a tuple.\n",
    "\n",
    "Elements of a tuple are enclosed in paraenthesis(round brackets) and are separated by commas. \n",
    "\n",
    "Like list and string, elements of tuple can be accessed using index values, starting from 0.\n",
    "\n",
    "Tuples are immutable in in nature"
   ]
  },
  {
   "cell_type": "code",
   "execution_count": 6,
   "metadata": {},
   "outputs": [
    {
     "name": "stdout",
     "output_type": "stream",
     "text": [
      "(1, 2, 'Hi')\n"
     ]
    }
   ],
   "source": [
    "my_tuple = (1,2,\"Hi\")\n",
    "print(my_tuple)"
   ]
  },
  {
   "cell_type": "markdown",
   "metadata": {},
   "source": [
    "### Set"
   ]
  },
  {
   "cell_type": "markdown",
   "metadata": {},
   "source": [
    "It is an unorderd collection data type that is iterable, mutable and has no duplicate elements"
   ]
  },
  {
   "cell_type": "markdown",
   "metadata": {},
   "source": [
    "Elements in the set are immutable but the set as a whole is mutable"
   ]
  },
  {
   "cell_type": "markdown",
   "metadata": {},
   "source": [
    "The elements are contained within a curly brackets"
   ]
  },
  {
   "cell_type": "code",
   "execution_count": 7,
   "metadata": {},
   "outputs": [
    {
     "name": "stdout",
     "output_type": "stream",
     "text": [
      "{1, 2, 'Text'}\n"
     ]
    }
   ],
   "source": [
    "my_set = {1,2,\"Text\",2,True}\n",
    "print(my_set)"
   ]
  },
  {
   "cell_type": "markdown",
   "metadata": {},
   "source": [
    "Question ?.......\n",
    "\n",
    "The above set has True but it doesn't ouput in the print statement\n",
    "\n",
    "Reason: hash(True) is equal to 1 and there is 1 is already in the set and that's why it considers 1 and True as duplicates and\n",
    "        displays the unique value 1. Similar approach for 0 and False"
   ]
  },
  {
   "cell_type": "code",
   "execution_count": 8,
   "metadata": {},
   "outputs": [
    {
     "data": {
      "text/plain": [
       "{0, 2, 'Text', True}"
      ]
     },
     "execution_count": 8,
     "metadata": {},
     "output_type": "execute_result"
    }
   ],
   "source": [
    "new_set = {0,2,\"Text\",True}\n",
    "new_set"
   ]
  },
  {
   "cell_type": "markdown",
   "metadata": {},
   "source": [
    "### Dictionary"
   ]
  },
  {
   "cell_type": "markdown",
   "metadata": {},
   "source": [
    "Dictionary is used to store data in the form of key value pairs"
   ]
  },
  {
   "cell_type": "markdown",
   "metadata": {},
   "source": [
    "The Key:Value pair is provided to make it more optimized"
   ]
  },
  {
   "cell_type": "markdown",
   "metadata": {},
   "source": [
    "It is ordered, mutable and does not allow duplicates"
   ]
  },
  {
   "cell_type": "code",
   "execution_count": 9,
   "metadata": {},
   "outputs": [
    {
     "data": {
      "text/plain": [
       "{'first': 10, 'second': 'Greetings', 'Third': True}"
      ]
     },
     "execution_count": 9,
     "metadata": {},
     "output_type": "execute_result"
    }
   ],
   "source": [
    "dict = {'first':10,'second':'Greetings','Third':True}\n",
    "dict"
   ]
  },
  {
   "cell_type": "markdown",
   "metadata": {},
   "source": [
    "### Boolean"
   ]
  },
  {
   "cell_type": "markdown",
   "metadata": {},
   "source": [
    "The boolean values are either True or False"
   ]
  },
  {
   "cell_type": "markdown",
   "metadata": {},
   "source": [
    "It is used for evaluating expressions in python"
   ]
  },
  {
   "cell_type": "markdown",
   "metadata": {},
   "source": [
    "Example: 5>2 returns the output True "
   ]
  },
  {
   "cell_type": "code",
   "execution_count": 10,
   "metadata": {},
   "outputs": [
    {
     "data": {
      "text/plain": [
       "True"
      ]
     },
     "execution_count": 10,
     "metadata": {},
     "output_type": "execute_result"
    }
   ],
   "source": [
    "5>2"
   ]
  },
  {
   "cell_type": "markdown",
   "metadata": {},
   "source": [
    "### Binary Type"
   ]
  },
  {
   "cell_type": "markdown",
   "metadata": {},
   "source": [
    "The byte and byte array are used to manupulate binary data in python.\n",
    "\n",
    "These bytes and bytearrays are supported by buffer protocol, named memoryview.\n",
    "\n",
    "memoryview allows us to access the internal data without copying the data. "
   ]
  },
  {
   "cell_type": "markdown",
   "metadata": {},
   "source": [
    "Explore more on Binary Type:\n",
    "    \n",
    "Reference: https://codescracker.com/python/python-memoryview.htm"
   ]
  }
 ],
 "metadata": {
  "kernelspec": {
   "display_name": "Python 3",
   "language": "python",
   "name": "python3"
  },
  "language_info": {
   "codemirror_mode": {
    "name": "ipython",
    "version": 3
   },
   "file_extension": ".py",
   "mimetype": "text/x-python",
   "name": "python",
   "nbconvert_exporter": "python",
   "pygments_lexer": "ipython3",
   "version": "3.8.5"
  }
 },
 "nbformat": 4,
 "nbformat_minor": 4
}
